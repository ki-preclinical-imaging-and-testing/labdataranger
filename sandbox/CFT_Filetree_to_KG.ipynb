{
 "cells": [
  {
   "cell_type": "code",
   "execution_count": 4,
   "id": "35d225a2-62ba-4216-ab83-20feaddf05d5",
   "metadata": {},
   "outputs": [],
   "source": [
    "import os\n",
    "import glob\n",
    "import json\n",
    "from collections import defaultdict\n",
    "\n",
    "\n",
    "def cft_study_meta_base(fp_base):\n",
    "    meta = {}\n",
    "    study_detail_logs = glob.glob(os.path.join(fp_base, '*.json'))\n",
    "    for _sdl in study_detail_logs:\n",
    "        print(_sdl)\n",
    "        _meta_key = os.path.basename(_sdl)\n",
    "        meta[_meta_key] = json.load(open(_sdl, 'r'))\n",
    "    return meta\n",
    "\n",
    "\n",
    "def print_dict_recursively(d, indent=0):\n",
    "    # Create indentation string based on the current recursion depth\n",
    "    indent_str = '  ' * indent\n",
    "    print()\n",
    "    for k, v in d.items():\n",
    "        if isinstance(v, dict):\n",
    "            # If the value is another dictionary, print its key and recursively call this function\n",
    "            print(f\"{indent_str}{k}:\")\n",
    "            print_dict_recursively(v, indent + 2)\n",
    "        else:\n",
    "            # If the value is not a dictionary, print the key and value\n",
    "            print(f\"{indent_str}{k}: {v}\")\n",
    "    print()\n",
    "\n",
    "def cft_study_meta_recon(fp_base):\n",
    "    fp_recon = os.path.join(fp_base, 'recon/study_detail.json')\n",
    "    f = open(fp_recon, 'r')\n",
    "    meta_recon = json.load(f)\n",
    "    return meta_recon\n",
    "\n",
    "\n",
    "def print_cft_study_roi(meta_recon):\n",
    "    for _k, _roi in meta_recon['study_details']['rois'].items():\n",
    "        _bb_dim = _roi['bounding_box']\n",
    "        x0, y0, x1, y1 = tuple(_bb_dim)\n",
    "        dx = x1-x0\n",
    "        dy = y1-y0\n",
    "        area = dx*dy\n",
    "        print()\n",
    "        print(\"-----------------------------\")\n",
    "        print()\n",
    "        print(f\"  ROI: {_roi['name']}\")\n",
    "        print()\n",
    "        print(f\" BBox: \")\n",
    "        print()\n",
    "        print(f\" (x0, x1) = ({x0}, {x1})\")\n",
    "        print(f\" (y0, y1) = ({y0}, {y1})\")\n",
    "        print()\n",
    "        print(f\"       dx = {dx:7d} pixel width\")\n",
    "        print(f\"       dy = {dy:7d} pixel width\")\n",
    "        print(f\"     area = {area:7d} pixel\")\n",
    "        print()\n",
    "\n",
    "\n",
    "def find_files_by_extension(root_dir):\n",
    "    # Dictionary to store the extensions and their associated file paths\n",
    "    extensions_dict = defaultdict(list)\n",
    "\n",
    "    # Walk through all directories and files in the specified root directory\n",
    "    for dirpath, dirnames, filenames in os.walk(root_dir):\n",
    "        for filename in filenames:\n",
    "            # Get the full path of the file\n",
    "            full_path = os.path.join(dirpath, filename)\n",
    "            # Extract the extension from the filename\n",
    "            _, ext = os.path.splitext(filename)\n",
    "            # Normalize the extension to ensure consistency (optional)\n",
    "            ext = ext.lower().strip('.')\n",
    "            # Append the full path of the file to the list of paths for this extension\n",
    "            if ext:  # Make sure there's an extension\n",
    "                extensions_dict[ext].append(full_path)\n",
    "    _ed = dict(extensions_dict)\n",
    "    return {_k: _ed[_k] for _k in sorted(_ed)}\n",
    "\n",
    "\n",
    "def summarize_directory(filetype_dict):\n",
    "    print(f\"Found {len(filetype_dict.keys())} extensions (filecount):\")\n",
    "    for _k, _v in filetype_dict.items():\n",
    "        print(f\"  .{_k:7s} ({len(_v)})\")"
   ]
  },
  {
   "cell_type": "code",
   "execution_count": 5,
   "id": "6e5be909-e486-4206-87b2-4f52fa8eb5d4",
   "metadata": {},
   "outputs": [
    {
     "name": "stdout",
     "output_type": "stream",
     "text": [
      "/mnt/server/bmc-lab6/CFT/CFT Data from New Version/20240428_LF_AF647/study_detail_20240428_203933347.json\n",
      "\n",
      "study_detail_20240428_203933347.json:\n",
      "\n",
      "    study_details:\n",
      "\n",
      "        study: 20240428_LF_AF647\n",
      "        subject: Multiple Mouse Tumors\n",
      "        email: na\n",
      "        email_int: -1\n",
      "        fov: FOV A\n",
      "        protocol: AF647\n",
      "        num_slices: 1332\n",
      "        slice_thickness: 20\n",
      "        temp_setpoint: -14\n",
      "        card_rect: [0, 0, 4112, 3008]\n",
      "        block_rect: [50, 100, 3700, 2900]\n",
      "\n",
      "    protocol_detail (out):\n",
      "\n",
      "        protocol:\n",
      "\n",
      "            name: AF647\n",
      "            path: E:\\EmitImagingSoftwareV2\\study_data\\users\\howard\\protocols\\AF647.json\n",
      "\n",
      "        apps: [{'name': 'AF 647', 'laser': '640', 'led': '', 'filter': '680/13', 'exp_opt': 'HDR+', 'man_exp': 0}]\n",
      "\n",
      "\n",
      "\n",
      "\n",
      "Found 5 extensions (filecount):\n",
      "  .jp2     (99975)\n",
      "  .jpg     (22662)\n",
      "  .json    (2)\n",
      "  .p       (2)\n",
      "  .tiff    (17437)\n"
     ]
    }
   ],
   "source": [
    "fp_base = '/mnt/server/bmc-lab6/CFT/CFT Data from New Version/20240428_LF_AF647'\n",
    "\n",
    "meta = cft_study_meta_base(fp_base)\n",
    "print_dict_recursively(meta)\n",
    "print()\n",
    "filetype_dict = find_files_by_extension(fp_base)\n",
    "summarize_directory(filetype_dict)"
   ]
  },
  {
   "cell_type": "code",
   "execution_count": 6,
   "id": "bdc4e41f-19a4-4ec5-9aa2-69f4092d1eec",
   "metadata": {},
   "outputs": [
    {
     "data": {
      "text/plain": [
       "dict_keys(['jp2', 'jpg', 'json', 'p', 'tiff'])"
      ]
     },
     "execution_count": 6,
     "metadata": {},
     "output_type": "execute_result"
    }
   ],
   "source": [
    "filetype_dict.keys()"
   ]
  },
  {
   "cell_type": "code",
   "execution_count": 15,
   "id": "7978a91e-f41d-4bdd-9afa-0fc44f6c964e",
   "metadata": {},
   "outputs": [
    {
     "data": {
      "text/plain": [
       "['/mnt/server/bmc-lab6/CFT/CFT Data from New Version/20240428_LF_AF647/recon/rois/d0M1/ex_640nm_em_680nm/1500/slice_0001_1500.jp2',\n",
       " '/mnt/server/bmc-lab6/CFT/CFT Data from New Version/20240428_LF_AF647/recon/rois/d0M1/ex_640nm_em_680nm/1500/slice_0002_1500.jp2',\n",
       " '/mnt/server/bmc-lab6/CFT/CFT Data from New Version/20240428_LF_AF647/recon/rois/d0M1/ex_640nm_em_680nm/1500/slice_0003_1500.jp2',\n",
       " '/mnt/server/bmc-lab6/CFT/CFT Data from New Version/20240428_LF_AF647/recon/rois/d0M1/ex_640nm_em_680nm/1500/slice_0004_1500.jp2',\n",
       " '/mnt/server/bmc-lab6/CFT/CFT Data from New Version/20240428_LF_AF647/recon/rois/d0M1/ex_640nm_em_680nm/1500/slice_0005_1500.jp2']"
      ]
     },
     "execution_count": 15,
     "metadata": {},
     "output_type": "execute_result"
    }
   ],
   "source": [
    "filetype_dict['jp2'][:5]"
   ]
  },
  {
   "cell_type": "code",
   "execution_count": 36,
   "id": "16467598-ee0a-4802-ab5c-f759a81ac761",
   "metadata": {},
   "outputs": [
    {
     "name": "stdout",
     "output_type": "stream",
     "text": [
      "Filetype: jp2\n",
      "                                               filepath\n",
      "0     /mnt/server/bmc-lab6/CFT/CFT Data from New Ver...\n",
      "1     /mnt/server/bmc-lab6/CFT/CFT Data from New Ver...\n",
      "2     /mnt/server/bmc-lab6/CFT/CFT Data from New Ver...\n",
      "3     /mnt/server/bmc-lab6/CFT/CFT Data from New Ver...\n",
      "4     /mnt/server/bmc-lab6/CFT/CFT Data from New Ver...\n",
      "...                                                 ...\n",
      "6660  /mnt/server/bmc-lab6/CFT/CFT Data from New Ver...\n",
      "6661  /mnt/server/bmc-lab6/CFT/CFT Data from New Ver...\n",
      "6662  /mnt/server/bmc-lab6/CFT/CFT Data from New Ver...\n",
      "6663  /mnt/server/bmc-lab6/CFT/CFT Data from New Ver...\n",
      "6664  /mnt/server/bmc-lab6/CFT/CFT Data from New Ver...\n",
      "\n",
      "[6665 rows x 1 columns]\n",
      "False    93310\n",
      "True      6665\n",
      "Name: filepath, dtype: int64\n"
     ]
    }
   ],
   "source": [
    "import pandas as pd\n",
    "\n",
    "filetype = list(filetype_dict.keys())[0]\n",
    "print(f\"Filetype: {filetype}\")\n",
    "df = pd.DataFrame(filetype_dict['jp2'], columns=['filepath'])\n",
    "\n",
    "# _substr = 'ex_640nm_em_680nm'\n",
    "# _substr = '1500'\n",
    "_substr = 'd0M1'\n",
    "\n",
    "print(df[df['filepath'].apply(lambda x: _substr in x)].reset_index(drop=True))\n",
    "print(df['filepath'].apply(lambda x: _substr in x).value_counts())"
   ]
  },
  {
   "cell_type": "code",
   "execution_count": null,
   "id": "7c7dbe97-3928-4ffc-b034-c473af33a32e",
   "metadata": {},
   "outputs": [],
   "source": []
  }
 ],
 "metadata": {
  "kernelspec": {
   "display_name": "Python 3 (ipykernel)",
   "language": "python",
   "name": "python3"
  },
  "language_info": {
   "codemirror_mode": {
    "name": "ipython",
    "version": 3
   },
   "file_extension": ".py",
   "mimetype": "text/x-python",
   "name": "python",
   "nbconvert_exporter": "python",
   "pygments_lexer": "ipython3",
   "version": "3.9.12"
  }
 },
 "nbformat": 4,
 "nbformat_minor": 5
}
