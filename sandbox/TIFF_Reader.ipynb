{
 "cells": [
  {
   "cell_type": "markdown",
   "id": "1430387c-c2e4-4914-915d-af641bff9a13",
   "metadata": {},
   "source": [
    "# TIFF Reader\n",
    "\n",
    "Here is a generic starting point for reading TIFF files.\n",
    "\n",
    "This notebook should expand to include the following TIF styles:\n",
    "1. TIFs with many slice files, **without log file**\n",
    "2. TIFs with many slice files, **including log file**\n",
    "3. TIFs with all slices and metadata combined\n",
    "\n",
    "It will also cover a few different cases of microCT data:\n",
    "1. Raw/preprocessed data\n",
    "2. Analyzed data (ImageJ or otherwise)\n",
    "3. "
   ]
  },
  {
   "cell_type": "markdown",
   "id": "1c2623d0-3fc0-4108-92d8-508a15ca4604",
   "metadata": {},
   "source": [
    "## 1 TIFs with many slice files, without log file\n",
    "\n",
    "Let's start with the first case..."
   ]
  },
  {
   "cell_type": "code",
   "execution_count": 1,
   "id": "7f9402ba-36a8-4666-a1d9-741bd4085195",
   "metadata": {},
   "outputs": [],
   "source": [
    "from PIL import Image\n",
    "from PIL.TiffTags import TAGS\n",
    "import glob\n",
    "import os\n",
    "\n",
    "\n",
    "def extract_meta_dict(glob_str, verbose=False):\n",
    "    meta_dict = {}\n",
    "    print(\"Scanning files ...\\n\")\n",
    "    for _file in glob.glob(glob_str):\n",
    "        if verbose:\n",
    "            print(f\"  - {_file}\")\n",
    "        img = Image.open(_file)\n",
    "        _meta = {TAGS[key] : img.tag[key] for key in img.tag_v2}\n",
    "        _fn_short = os.path.basename(_file)\n",
    "        meta_dict[_fn_short] = _meta\n",
    "    print(\"\\n... done.\")\n",
    "    return {_k: meta_dict[_k] for _k in sorted(meta_dict)}\n",
    "    \n",
    "\n",
    "def extract_tiff_tags(img):\n",
    "    for _k in img.tag_v2:\n",
    "        if _k in TAGS.keys():\n",
    "            print(TAGS[_k], img.tag[_k])\n",
    "        else:\n",
    "            print(f\"CUSTOM TAG[{_k}]\", img.tag[_k])\n",
    "        print()\n",
    "\n"
   ]
  },
  {
   "cell_type": "code",
   "execution_count": 2,
   "id": "c9244323-88ff-4b8b-9cfc-f323f18cf34d",
   "metadata": {},
   "outputs": [
    {
     "name": "stdout",
     "output_type": "stream",
     "text": [
      "Scanning files ...\n",
      "\n",
      "  - LungData/608_Rec-7.tif\n",
      "  - LungData/653_Rec-7.tif\n",
      "  - LungData/665_Rec-7.tif\n",
      "  - LungData/629_Rec-7.tif\n",
      "  - LungData/611_Rec-7.tif\n",
      "  - LungData/620_Rec-7.tif\n",
      "  - LungData/615_Rec-7.tif\n",
      "  - LungData/630_Rec-7.tif\n",
      "  - LungData/626_Rec-7.tif\n",
      "  - LungData/652_Rec-7.tif\n",
      "  - LungData/662_Rec-7.tif\n",
      "  - LungData/619_Rec-7.tif\n",
      "  - LungData/667_Rec-7.tif\n",
      "  - LungData/606_rec-7.tif\n",
      "  - LungData/613_Rec-7.tif\n",
      "  - LungData/609_rec-7.tif\n",
      "  - LungData/618_Rec-7.tif\n",
      "  - LungData/666_Rec-7.tif\n",
      "  - LungData/612_Rec-7.tif\n",
      "  - LungData/664_Rec-7.tif\n",
      "  - LungData/614_Rec-7.tif\n",
      "  - LungData/663_Rec-7.tif\n",
      "  - LungData/651_Rec-7.tif\n",
      "  - LungData/668_Rec-7.tif\n",
      "  - LungData/610_Rec-7.tif\n",
      "  - LungData/607_Rec-7.tif\n",
      "  - LungData/669_Rec-7.tif\n",
      "  - LungData/655_Rec-7.tif\n",
      "  - LungData/628_Rec-7.tif\n",
      "  - LungData/654_Rec-7.tif\n",
      "  - LungData/627_Rec-7.tif\n",
      "  - LungData/616_Rec-7.tif\n",
      "  - LungData/670_Rec-7.tif\n",
      "\n",
      "... done.\n"
     ]
    }
   ],
   "source": [
    "meta_dict = extract_meta_dict('LungData/*.tif', verbose=True)"
   ]
  },
  {
   "cell_type": "code",
   "execution_count": 3,
   "id": "3d89b066-1b38-4893-a293-0d854100239c",
   "metadata": {},
   "outputs": [
    {
     "name": "stdout",
     "output_type": "stream",
     "text": [
      "606_rec-7.tif\n",
      "  - PhotometricInterpretation\n",
      "  - StripOffsets\n",
      "  - ImageJMetaData\n",
      "  - StripByteCounts\n",
      "  - ImageDescription\n",
      "  - ImageJMetaDataByteCounts\n",
      "  - ImageWidth\n",
      "  - SamplesPerPixel\n",
      "  - ResolutionUnit\n",
      "  - ImageLength\n",
      "  - YResolution\n",
      "  - BitsPerSample\n",
      "  - RowsPerStrip\n",
      "  - XResolution\n",
      "  - NewSubfileType\n",
      "\n",
      "607_Rec-7.tif\n",
      "\n",
      "608_Rec-7.tif\n",
      "\n",
      "609_rec-7.tif\n",
      "\n",
      "610_Rec-7.tif\n",
      "\n",
      "611_Rec-7.tif\n",
      "\n",
      "612_Rec-7.tif\n",
      "\n",
      "613_Rec-7.tif\n",
      "\n",
      "614_Rec-7.tif\n",
      "\n",
      "615_Rec-7.tif\n",
      "\n",
      "616_Rec-7.tif\n",
      "\n",
      "618_Rec-7.tif\n",
      "\n",
      "619_Rec-7.tif\n",
      "\n",
      "620_Rec-7.tif\n",
      "\n",
      "626_Rec-7.tif\n",
      "\n",
      "627_Rec-7.tif\n",
      "\n",
      "628_Rec-7.tif\n",
      "\n",
      "629_Rec-7.tif\n",
      "\n",
      "630_Rec-7.tif\n",
      "\n",
      "651_Rec-7.tif\n",
      "\n",
      "652_Rec-7.tif\n",
      "\n",
      "653_Rec-7.tif\n",
      "\n",
      "654_Rec-7.tif\n",
      "\n",
      "655_Rec-7.tif\n",
      "\n",
      "662_Rec-7.tif\n",
      "\n",
      "663_Rec-7.tif\n",
      "\n",
      "664_Rec-7.tif\n",
      "\n",
      "665_Rec-7.tif\n",
      "\n",
      "666_Rec-7.tif\n",
      "\n",
      "667_Rec-7.tif\n",
      "\n",
      "668_Rec-7.tif\n",
      "\n",
      "669_Rec-7.tif\n",
      "\n",
      "670_Rec-7.tif\n",
      "\n"
     ]
    }
   ],
   "source": [
    "properties = set()\n",
    "for _k, _v in meta_dict.items():\n",
    "    print(_k)\n",
    "    _pset = set(_v.keys())\n",
    "    _pnew = _pset - properties\n",
    "    for _p in _pnew:\n",
    "        print(f\"  - {_p}\")\n",
    "    properties = properties | _pnew\n",
    "    print()\n"
   ]
  },
  {
   "cell_type": "code",
   "execution_count": 4,
   "id": "519a2df8-fb10-40fe-bc0f-1ee0086a51f1",
   "metadata": {},
   "outputs": [
    {
     "name": "stdout",
     "output_type": "stream",
     "text": [
      "\u001b[0m\u001b[01;32m'wk14_10-cropped-matlab workflow.tiff'\u001b[0m*\n",
      "\u001b[01;32m'wk14_10_imageJ filter.tif'\u001b[0m*\n",
      "\u001b[01;32m'wk14_10_rec00000336-original recon output.tif'\u001b[0m*\n"
     ]
    }
   ],
   "source": [
    "!ls Example\\ mcroCT\\ tiff\\ files"
   ]
  },
  {
   "cell_type": "code",
   "execution_count": 5,
   "id": "63860157-3db2-475d-b453-cc314faf5273",
   "metadata": {},
   "outputs": [
    {
     "name": "stdout",
     "output_type": "stream",
     "text": [
      "ImageWidth (596,)\n",
      "\n",
      "ImageLength (540,)\n",
      "\n",
      "BitsPerSample (16,)\n",
      "\n",
      "Compression (1,)\n",
      "\n",
      "PhotometricInterpretation (1,)\n",
      "\n",
      "StripOffsets (8, 8352, 16696, 25040, 33384, 41728, 50072, 58416, 66760, 75104, 83448, 91792, 100136, 108480, 116824, 125168, 133512, 141856, 150200, 158544, 166888, 175232, 183576, 191920, 200264, 208608, 216952, 225296, 233640, 241984, 250328, 258672, 267016, 275360, 283704, 292048, 300392, 308736, 317080, 325424, 333768, 342112, 350456, 358800, 367144, 375488, 383832, 392176, 400520, 408864, 417208, 425552, 433896, 442240, 450584, 458928, 467272, 475616, 483960, 492304, 500648, 508992, 517336, 525680, 534024, 542368, 550712, 559056, 567400, 575744, 584088, 592432, 600776, 609120, 617464, 625808, 634152, 642496)\n",
      "\n",
      "SampleFormat (1,)\n",
      "\n",
      "SamplesPerPixel (1,)\n",
      "\n",
      "RowsPerStrip (7,)\n",
      "\n",
      "StripByteCounts (8344, 8344, 8344, 8344, 8344, 8344, 8344, 8344, 8344, 8344, 8344, 8344, 8344, 8344, 8344, 8344, 8344, 8344, 8344, 8344, 8344, 8344, 8344, 8344, 8344, 8344, 8344, 8344, 8344, 8344, 8344, 8344, 8344, 8344, 8344, 8344, 8344, 8344, 8344, 8344, 8344, 8344, 8344, 8344, 8344, 8344, 8344, 8344, 8344, 8344, 8344, 8344, 8344, 8344, 8344, 8344, 8344, 8344, 8344, 8344, 8344, 8344, 8344, 8344, 8344, 8344, 8344, 8344, 8344, 8344, 8344, 8344, 8344, 8344, 8344, 8344, 8344, 8344)\n",
      "\n",
      "PlanarConfiguration (1,)\n",
      "\n"
     ]
    }
   ],
   "source": [
    "img = Image.open('Example mcroCT tiff files/wk14_10-cropped-matlab workflow.tiff')\n",
    "extract_tiff_tags(img)"
   ]
  },
  {
   "cell_type": "code",
   "execution_count": 6,
   "id": "ac42ff3d-b474-49c7-8e5a-1275dad8e724",
   "metadata": {},
   "outputs": [
    {
     "name": "stdout",
     "output_type": "stream",
     "text": [
      "ImageWidth (596,)\n",
      "\n",
      "ImageLength (540,)\n",
      "\n",
      "BitsPerSample (16,)\n",
      "\n",
      "Compression (1,)\n",
      "\n",
      "PhotometricInterpretation (1,)\n",
      "\n",
      "ImageDescription ('ImageJ=1.54i\\nimages=667\\nslices=667\\nunit=inch\\nspacing=0.001452770433216143\\nloop=false\\nmin=0.0\\nmax=65535.0\\n',)\n",
      "\n",
      "StripOffsets (304,)\n",
      "\n",
      "SamplesPerPixel (1,)\n",
      "\n",
      "RowsPerStrip (540,)\n",
      "\n",
      "StripByteCounts (643680,)\n",
      "\n",
      "XResolution ((688340000, 1000000),)\n",
      "\n",
      "YResolution ((688340000, 1000000),)\n",
      "\n",
      "ResolutionUnit (2,)\n",
      "\n",
      "NewSubfileType (0,)\n",
      "\n"
     ]
    }
   ],
   "source": [
    "img = Image.open('Example mcroCT tiff files/wk14_10_imageJ filter.tif')\n",
    "extract_tiff_tags(img)"
   ]
  },
  {
   "cell_type": "code",
   "execution_count": 7,
   "id": "1ad17b14-4693-4027-94c3-f20f460caf93",
   "metadata": {},
   "outputs": [
    {
     "name": "stdout",
     "output_type": "stream",
     "text": [
      "ImageWidth (596,)\n",
      "\n",
      "ImageLength (540,)\n",
      "\n",
      "BitsPerSample (16,)\n",
      "\n",
      "Compression (1,)\n",
      "\n",
      "CUSTOM TAG[65280] (-1000,)\n",
      "\n",
      "CUSTOM TAG[65281] (1700,)\n",
      "\n",
      "PhotometricInterpretation (1,)\n",
      "\n",
      "StripOffsets (16, 7168, 14320, 21472, 28624, 35776, 42928, 50080, 57232, 64384, 71536, 78688, 85840, 92992, 100144, 107296, 114448, 121600, 128752, 135904, 143056, 150208, 157360, 164512, 171664, 178816, 185968, 193120, 200272, 207424, 214576, 221728, 228880, 236032, 243184, 250336, 257488, 264640, 271792, 278944, 286096, 293248, 300400, 307552, 314704, 321856, 329008, 336160, 343312, 350464, 357616, 364768, 371920, 379072, 386224, 393376, 400528, 407680, 414832, 421984, 429136, 436288, 443440, 450592, 457744, 464896, 472048, 479200, 486352, 493504, 500656, 507808, 514960, 522112, 529264, 536416, 543568, 550720, 557872, 565024, 572176, 579328, 586480, 593632, 600784, 607936, 615088, 622240, 629392, 636544)\n",
      "\n",
      "SamplesPerPixel (1,)\n",
      "\n",
      "RowsPerStrip (6,)\n",
      "\n",
      "StripByteCounts (7152, 7152, 7152, 7152, 7152, 7152, 7152, 7152, 7152, 7152, 7152, 7152, 7152, 7152, 7152, 7152, 7152, 7152, 7152, 7152, 7152, 7152, 7152, 7152, 7152, 7152, 7152, 7152, 7152, 7152, 7152, 7152, 7152, 7152, 7152, 7152, 7152, 7152, 7152, 7152, 7152, 7152, 7152, 7152, 7152, 7152, 7152, 7152, 7152, 7152, 7152, 7152, 7152, 7152, 7152, 7152, 7152, 7152, 7152, 7152, 7152, 7152, 7152, 7152, 7152, 7152, 7152, 7152, 7152, 7152, 7152, 7152, 7152, 7152, 7152, 7152, 7152, 7152, 7152, 7152, 7152, 7152, 7152, 7152, 7152, 7152, 7152, 7152, 7152, 7152)\n",
      "\n",
      "XResolution ((688340, 1000),)\n",
      "\n",
      "YResolution ((688340, 1000),)\n",
      "\n",
      "PlanarConfiguration (1,)\n",
      "\n",
      "ResolutionUnit (2,)\n",
      "\n",
      "NewSubfileType (0,)\n",
      "\n"
     ]
    }
   ],
   "source": [
    "img = Image.open('Example mcroCT tiff files/wk14_10_rec00000336-original recon output.tif')\n",
    "extract_tiff_tags(img)"
   ]
  },
  {
   "cell_type": "code",
   "execution_count": null,
   "id": "34eebb2e-95b7-45cc-aeb5-dbb68df7cc30",
   "metadata": {},
   "outputs": [],
   "source": []
  },
  {
   "cell_type": "code",
   "execution_count": null,
   "id": "c975b642-41ac-4765-a52a-603af104e135",
   "metadata": {},
   "outputs": [],
   "source": []
  },
  {
   "cell_type": "code",
   "execution_count": null,
   "id": "b830c28f-4c21-42ca-8172-626ca1a083de",
   "metadata": {},
   "outputs": [],
   "source": []
  }
 ],
 "metadata": {
  "kernelspec": {
   "display_name": "Python 3 (ipykernel)",
   "language": "python",
   "name": "python3"
  },
  "language_info": {
   "codemirror_mode": {
    "name": "ipython",
    "version": 3
   },
   "file_extension": ".py",
   "mimetype": "text/x-python",
   "name": "python",
   "nbconvert_exporter": "python",
   "pygments_lexer": "ipython3",
   "version": "3.9.12"
  }
 },
 "nbformat": 4,
 "nbformat_minor": 5
}
