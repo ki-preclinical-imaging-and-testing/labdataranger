{
 "cells": [
  {
   "cell_type": "code",
   "execution_count": 13,
   "id": "b1f39ce3-9676-4294-910b-c687d030f4e9",
   "metadata": {},
   "outputs": [
    {
     "name": "stdout",
     "output_type": "stream",
     "text": [
      "Results for query: \n",
      "    MATCH (s:Scan)-[]-(f:Folder)\n",
      "    WHERE f.name CONTAINS '_Rec'\n",
      "    MATCH (r:Reconstruction)-[]-(...\n",
      "          Name                                           Filepath  \\\n",
      "0       1L_Rec  /mnt/data/archive/LaraM_Full_Dataset/U37/10_21...   \n",
      "1       1R_Rec  /mnt/data/archive/LaraM_Full_Dataset/U37/10_21...   \n",
      "2       NP_Rec  /mnt/data/archive/LaraM_Full_Dataset/U37/10_21...   \n",
      "3       1L_Rec  /mnt/data/archive/LaraM_Full_Dataset/U37/10_21...   \n",
      "4       1R_Rec  /mnt/data/archive/LaraM_Full_Dataset/U37/10_21...   \n",
      "...        ...                                                ...   \n",
      "2760  2660_Rec  /mnt/data/archive/LaraM_Full_Dataset/02.3.22_7...   \n",
      "2761  2674_Rec  /mnt/data/archive/LaraM_Full_Dataset/02.3.22_7...   \n",
      "2762  2933_Rec  /mnt/data/archive/LaraM_Full_Dataset/02.3.22_7...   \n",
      "2763  2932_Rec  /mnt/data/archive/LaraM_Full_Dataset/02.3.22_7...   \n",
      "2764    NP_Rec  /mnt/data/archive/LaraM_Full_Dataset/U37/10_21...   \n",
      "\n",
      "                      Acquired           Reconstructed  \n",
      "0     21 Oct 2022  12h:22m:32s  Oct 21, 2022  12:26:49  \n",
      "1     21 Oct 2022  11h:10m:52s  Oct 21, 2022  11:17:07  \n",
      "2     21 Oct 2022  11h:49m:26s  Oct 21, 2022  11:52:29  \n",
      "3     21 Oct 2022  11h:41m:05s  Oct 21, 2022  11:43:28  \n",
      "4     21 Oct 2022  11h:36m:44s  Oct 21, 2022  11:40:04  \n",
      "...                        ...                     ...  \n",
      "2760  03 Feb 2022  12h:42m:13s  Feb 03, 2022  12:44:19  \n",
      "2761  03 Feb 2022  12h:38m:32s  Feb 03, 2022  12:41:00  \n",
      "2762  03 Feb 2022  13h:13m:29s  Feb 03, 2022  13:15:07  \n",
      "2763  03 Feb 2022  13h:18m:42s  Feb 03, 2022  13:20:21  \n",
      "2764  21 Oct 2022  12h:30m:37s  Oct 21, 2022  12:38:00  \n",
      "\n",
      "[2765 rows x 4 columns]\n"
     ]
    }
   ],
   "source": [
    "import labdataranger as ldr\n",
    "\n",
    "df = ldr.query.dataframe(\n",
    "    query = f\"\"\"\n",
    "    MATCH (s:Scan)-[]-(f:Folder)\n",
    "    WHERE f.name CONTAINS '_Rec'\n",
    "    MATCH (r:Reconstruction)-[]-(s:Scan)-[]-(a:Acquisition)\n",
    "    RETURN f.name, s.filepath, a.studyDateAndTime, r.timeAndDate\n",
    "    \"\"\", \n",
    "    database='instruments',\n",
    "    column_map={\n",
    "    'f.name': 'Name',\n",
    "    's.filepath': 'Filepath',\n",
    "    'a.studyDateAndTime': 'Acquired',\n",
    "    'r.timeAndDate': 'Reconstructed'\n",
    "    }, verbose=True\n",
    ") "
   ]
  },
  {
   "cell_type": "code",
   "execution_count": null,
   "id": "ef5c8837-0dc5-4e7d-9cb7-7e41958965b7",
   "metadata": {},
   "outputs": [],
   "source": []
  },
  {
   "cell_type": "code",
   "execution_count": null,
   "id": "801ef473-e592-4eb8-bf6d-c780a011957f",
   "metadata": {},
   "outputs": [],
   "source": []
  },
  {
   "cell_type": "code",
   "execution_count": null,
   "id": "a5d821c7-2fda-4ca7-9be2-e6180abb9731",
   "metadata": {},
   "outputs": [],
   "source": [
    "def query_graph(query, config_file='db_config.json', database='neo4j', verbose=False):\n",
    "    with open(config_file, 'r') as file:\n",
    "        config = json.load(file)\n",
    "    \n",
    "    uri = config.get(\"uri\")\n",
    "    username = config.get(\"username\")\n",
    "    password = config.get(\"password\")\n",
    "    database = config.get(\"database\", database)\n",
    "\n",
    "    driver = GraphDatabase.driver(uri, auth=(username, password))\n",
    "    graph = nx.Graph()\n",
    "    with driver.session(database=database) as session:\n",
    "        result = session.run(query)\n",
    "        for record in result:\n",
    "            if verbose:\n",
    "                print(f\"  {record}\")\n",
    "\n",
    "            for key, value in record.items():\n",
    "                if isinstance(value, dict):  # Node\n",
    "                    graph.add_node(value['id'], **value)\n",
    "                elif isinstance(value, tuple):  # Relationship\n",
    "                    start_node, relationship, end_node = value\n",
    "                    graph.add_node(start_node['id'], **start_node)\n",
    "                    graph.add_node(end_node['id'], **end_node)\n",
    "                    graph.add_edge(start_node['id'], end_node['id'], **relationship)\n",
    "\n",
    "    driver.close()\n",
    "    \n",
    "    return graph\n",
    "\n",
    "# Example usage:\n",
    "graph_result = query_graph(\n",
    "    f\"\"\"\n",
    "    MATCH (fp:Folder)-[cf:CONTAINS_FOLDER]->(fc:Folder)\n",
    "    RETURN fp, cf, fc\n",
    "    \"\"\", database='instruments', verbose=True\n",
    ")\n",
    "\n",
    "# Printing nodes and edges of the graph\n",
    "print(\"Nodes:\")\n",
    "for node in graph_result.nodes(data=True):\n",
    "    print(node)\n",
    "\n",
    "print(\"\\nEdges:\")\n",
    "for edge in graph_result.edges(data=True):\n",
    "    print(edge)"
   ]
  },
  {
   "cell_type": "code",
   "execution_count": null,
   "id": "a2cee988-755f-447c-81b3-54fadd83208a",
   "metadata": {},
   "outputs": [],
   "source": []
  },
  {
   "cell_type": "code",
   "execution_count": null,
   "id": "6a8cdb60-726b-491f-a348-492b7fd2d985",
   "metadata": {},
   "outputs": [],
   "source": []
  },
  {
   "cell_type": "code",
   "execution_count": 1,
   "id": "79cb6b20-42f2-4adb-929c-8f42326bad59",
   "metadata": {},
   "outputs": [
    {
     "name": "stdout",
     "output_type": "stream",
     "text": [
      "network.html\n"
     ]
    },
    {
     "ename": "AttributeError",
     "evalue": "'Network' object has no attribute 'graph_attr'",
     "output_type": "error",
     "traceback": [
      "\u001b[0;31m---------------------------------------------------------------------------\u001b[0m",
      "\u001b[0;31mAttributeError\u001b[0m                            Traceback (most recent call last)",
      "Input \u001b[0;32mIn [1]\u001b[0m, in \u001b[0;36m<cell line: 47>\u001b[0;34m()\u001b[0m\n\u001b[1;32m     42\u001b[0m nodes_text_properties \u001b[38;5;241m=\u001b[39m {\n\u001b[1;32m     43\u001b[0m     \u001b[38;5;124m\"\u001b[39m\u001b[38;5;124mFolder\u001b[39m\u001b[38;5;124m\"\u001b[39m: \u001b[38;5;124m\"\u001b[39m\u001b[38;5;124mfolder\u001b[39m\u001b[38;5;124m\"\u001b[39m\n\u001b[1;32m     44\u001b[0m }\n\u001b[1;32m     45\u001b[0m pyvis_graph \u001b[38;5;241m=\u001b[39m visualize_result(graph_result, nodes_text_properties)\n\u001b[0;32m---> 47\u001b[0m G \u001b[38;5;241m=\u001b[39m \u001b[43mnx\u001b[49m\u001b[38;5;241;43m.\u001b[39;49m\u001b[43mnx_agraph\u001b[49m\u001b[38;5;241;43m.\u001b[39;49m\u001b[43mfrom_agraph\u001b[49m\u001b[43m(\u001b[49m\u001b[43mpyvis_graph\u001b[49m\u001b[43m)\u001b[49m\n",
      "File \u001b[0;32m~/anaconda3/lib/python3.9/site-packages/networkx/drawing/nx_agraph.py:77\u001b[0m, in \u001b[0;36mfrom_agraph\u001b[0;34m(A, create_using)\u001b[0m\n\u001b[1;32m     74\u001b[0m N \u001b[38;5;241m=\u001b[39m nx\u001b[38;5;241m.\u001b[39mempty_graph(\u001b[38;5;241m0\u001b[39m, create_using)\n\u001b[1;32m     76\u001b[0m \u001b[38;5;66;03m# add graph attributes\u001b[39;00m\n\u001b[0;32m---> 77\u001b[0m N\u001b[38;5;241m.\u001b[39mgraph\u001b[38;5;241m.\u001b[39mupdate(\u001b[43mA\u001b[49m\u001b[38;5;241;43m.\u001b[39;49m\u001b[43mgraph_attr\u001b[49m)\n\u001b[1;32m     79\u001b[0m \u001b[38;5;66;03m# add nodes, attributes to N.node_attr\u001b[39;00m\n\u001b[1;32m     80\u001b[0m \u001b[38;5;28;01mfor\u001b[39;00m n \u001b[38;5;129;01min\u001b[39;00m A\u001b[38;5;241m.\u001b[39mnodes():\n",
      "\u001b[0;31mAttributeError\u001b[0m: 'Network' object has no attribute 'graph_attr'"
     ]
    }
   ],
   "source": [
    "import labdataranger as ldr\n",
    "\n",
    "import neo4j\n",
    "\n",
    "_c = ldr.query.get_db_config()\n",
    "uri = _c.get(\"uri\")\n",
    "username = _c.get(\"username\")\n",
    "password = _c.get(\"password\")\n",
    "database = 'instruments'\n",
    "\n",
    "with neo4j.GraphDatabase.driver(uri, auth=(username, password)) as driver:\n",
    "    graph_result = driver.execute_query(\n",
    "        \"\"\"\n",
    "            MATCH (fp:Folder)-[cf:CONTAINS_FOLDER]->(fc:Folder)\n",
    "            RETURN fp, cf, fc\n",
    "        \"\"\", \n",
    "        database_=database,\n",
    "        result_transformer_=neo4j.Result.graph)\n",
    "\n",
    "import pyvis\n",
    "import networkx as nx\n",
    "\n",
    "def visualize_result(query_graph, nodes_text_properties):\n",
    "    visual_graph = pyvis.network.Network(directed=True)\n",
    "\n",
    "    for node in query_graph.nodes:\n",
    "        node_label = list(node.labels)[0]\n",
    "        node_text = node[nodes_text_properties[node_label]]\n",
    "        visual_graph.add_node(node.element_id, node_text, group=node_label)\n",
    "\n",
    "    for relationship in query_graph.relationships:\n",
    "        visual_graph.add_edge(\n",
    "            relationship.start_node.element_id,\n",
    "            relationship.end_node.element_id,\n",
    "            title=relationship.type\n",
    "        )\n",
    "\n",
    "    visual_graph.show('network.html', notebook=False)\n",
    "    \n",
    "    return visual_graph\n",
    "\n",
    "nodes_text_properties = {\n",
    "    \"Folder\": \"folder\"\n",
    "}\n",
    "pyvis_graph = visualize_result(graph_result, nodes_text_properties)\n",
    "\n",
    "G = nx.nx_agraph.from_agraph(pyvis_graph)"
   ]
  },
  {
   "cell_type": "code",
   "execution_count": 10,
   "id": "7ea9fd83-2bf4-401f-b65c-c9c65a25781d",
   "metadata": {},
   "outputs": [
    {
     "data": {
      "text/plain": [
       "True"
      ]
     },
     "execution_count": 10,
     "metadata": {},
     "output_type": "execute_result"
    }
   ],
   "source": [
    "pyvis_graph."
   ]
  },
  {
   "cell_type": "code",
   "execution_count": 11,
   "id": "7ed7e88d-ad7f-477d-a38b-5d14c786e276",
   "metadata": {},
   "outputs": [
    {
     "data": {
      "text/plain": [
       "<bound method Network.toggle_stabilization of <class 'pyvis.network.Network'> |N|=7001 |E|=7,000>"
      ]
     },
     "execution_count": 11,
     "metadata": {},
     "output_type": "execute_result"
    }
   ],
   "source": [
    "pyvis_graph."
   ]
  },
  {
   "cell_type": "code",
   "execution_count": null,
   "id": "73f4411a-6c26-494e-84e4-abecab98fe52",
   "metadata": {},
   "outputs": [],
   "source": [
    "! pip install "
   ]
  }
 ],
 "metadata": {
  "kernelspec": {
   "display_name": "Python 3 (ipykernel)",
   "language": "python",
   "name": "python3"
  },
  "language_info": {
   "codemirror_mode": {
    "name": "ipython",
    "version": 3
   },
   "file_extension": ".py",
   "mimetype": "text/x-python",
   "name": "python",
   "nbconvert_exporter": "python",
   "pygments_lexer": "ipython3",
   "version": "3.9.12"
  }
 },
 "nbformat": 4,
 "nbformat_minor": 5
}
