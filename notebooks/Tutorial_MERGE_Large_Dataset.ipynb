{
 "cells": [
  {
   "cell_type": "markdown",
   "id": "04a18e69-7848-46c0-88cf-6e9e01c03aa7",
   "metadata": {},
   "source": [
    "# Tutorial: LabDataForester\n",
    "\n",
    "Here is a demo tutorial for a large nested dataset. \n",
    "\n",
    "You need:\n",
    "1. A running database management system (DBMS), most likely on Neo4j Desktop\n",
    "2. This iPython notebook, running at the base of the `labdataforester` repository\n",
    "\n",
    "There is a little bit of work to do before step one...\n",
    "- Download and install Neo4j Desktop Community Edition here: https://neo4j.com/deployment-center/#:~:text=Neo4j%20Desktop,to%20get%20started.\n",
    "- Follow some more specific instructions here: https://wikis.mit.edu/confluence/display/KIPIT/Connecting+to+the+Knowledge+Graph\n",
    "\n",
    "Once these things are set, this notebook will guide you through the example of loading the repository's filesystem into a knowledge graph for navigation."
   ]
  },
  {
   "cell_type": "markdown",
   "id": "d4272ea9-8f7b-4635-96b0-c547ebe745fe",
   "metadata": {},
   "source": [
    "## Surveying a Lab's Data Forest\n",
    "\n",
    "In this notebook, you can see how a large messy set of imaging data can be surveyed, modeled, and pushed into a running database. "
   ]
  },
  {
   "cell_type": "markdown",
   "id": "dc412a82-d34e-437a-86bd-b21fd33e528b",
   "metadata": {},
   "source": [
    "## Large datasets\n",
    "\n",
    "Python's glob library struggles with large imaging datasets since there are many files to scan and many nested datasets. When this in the case, it helps to break down glob's scope. Here is a demonstration of how to deal with a large dataset.\n",
    "\n",
    "First, process the directories in parallel, creating checkpoints in `.pkl` format. \n",
    "\n",
    "Then, open each checkpoint and push to the database."
   ]
  },
  {
   "cell_type": "code",
   "execution_count": 4,
   "id": "26b463f7-5875-4b75-9f97-fee789524826",
   "metadata": {},
   "outputs": [],
   "source": [
    "import os\n",
    "import glob\n",
    "import concurrent.futures\n",
    "from pathlib import Path\n",
    "import labdataforester as ldf\n",
    "from neo4j import GraphDatabase\n",
    "import .labdataranger as ldr\n",
    "\n",
    "\n",
    "def process_directory(\n",
    "    base_directory_path,\n",
    "    skips=['System Volume Information','$RECYCLE.BIN'],\n",
    "    checkpoint_fstr='tree.pkl',\n",
    "    log_fstr='tree.out',\n",
    "    verbose=False):\n",
    "    \n",
    "    checkpoint_file = os.path.join(base_directory_path, checkpoint_fstr)\n",
    "    log_file = os.path.join(base_directory_path, log_fstr)\n",
    "    \n",
    "    if verbose:\n",
    "        print(base_directory_path)\n",
    "        print(checkpoint_file)\n",
    "        print(log_file)\n",
    "        print()\n",
    "\n",
    "    ft = ldf.survey.FileTree(\n",
    "        base_directory_path,\n",
    "        skips, \n",
    "        log_file=log_file, \n",
    "        checkpoint_file=checkpoint_file        \n",
    "    )\n",
    "    ft.collect_file_tree()\n",
    "    ft.save_state(checkpoint_file)\n",
    "\n",
    "    return base_directory_path\n",
    "\n",
    "\n",
    "def process_parallel(base_path, \n",
    "                     max_workers=56, \n",
    "                     verbose=False):\n",
    "\n",
    "    with concurrent.futures.ThreadPoolExecutor(max_workers=max_workers) as executor:\n",
    "    \n",
    "        futures = {\n",
    "            executor.submit(process_directory, base_dir): {\n",
    "                'base': base_dir, 'name': dir_name\n",
    "            } for dir_name, base_dir \n",
    "            in ldf.survey.get_base_dirs(base_path).items()\n",
    "        }\n",
    "        \n",
    "    \n",
    "        for future in concurrent.futures.as_completed(futures):\n",
    "        \n",
    "            _dir = futures[future]\n",
    "            \n",
    "            try:\n",
    "                result = future.result()\n",
    "                if verbose:\n",
    "                    print(f\"Processing completed for: {result}\")\n",
    "                    print(f\"                          {_dir['name']}\")\n",
    "                    \n",
    "            except Exception as exc:\n",
    "                print(f\"Error processing {_dir['base']}: {exc}\")\n",
    "\n",
    "\n",
    "def push_forest_to_db(base_path, \n",
    "                      checkpoint_fstr='tree.pkl'):\n",
    "    \n",
    "    for dir_name, base_dir in ldf.survey.get_base_dirs(base_path).items():\n",
    "        print(dir_name)\n",
    "        checkpoint = Path(base_dir).joinpath(checkpoint_fstr)\n",
    "        ft = ldf.survey.FileTree(base_dir, checkpoint_file=checkpoint)    \n",
    "        class_map, class_dict = ldf.model.build_classes(ft.graph)\n",
    "        try:\n",
    "            node_map = ldf.store.push_to_neo4j(ft.graph, class_map)\n",
    "        except: \n",
    "            print(f\"ERROR: {dir_name} filetree could not be loaded\")\n",
    "\n",
    "\n",
    "\n",
    "def create_and_connect_folders(parent_folder_path, \n",
    "                               database=None,\n",
    "                               config_file='db_config.json'):\n",
    "\n",
    "    db_config = ldr.query.get_db_config(config_file=config_file)\n",
    "    uri = f\"{db_config['uri']}:{db_config['port']}\"\n",
    "    username = db_config['username']\n",
    "    password = db_config['password']\n",
    "    \n",
    "    driver = GraphDatabase.driver(uri, auth=(username, password))\n",
    "    parent_folder_name = os.path.basename(parent_folder_path.rstrip('/'))    \n",
    "\n",
    "    query = \"\"\"\n",
    "        MERGE (parent:Folder {filepath: $parentFolderPath, name: $parentFolderName})\n",
    "        WITH parent\n",
    "        MATCH (subfolder:Folder)\n",
    "        WHERE subfolder.filepath STARTS WITH $parentFolderPath + '/'\n",
    "          AND NOT (subfolder)<-[:CONTAINS_FOLDER]-(:Folder)\n",
    "          AND subfolder.filepath <> $parentFolderPath\n",
    "        MERGE (parent)-[:CONTAINS_FOLDER]->(subfolder)\n",
    "        RETURN parent, subfolder\n",
    "    \"\"\"\n",
    "    \n",
    "    with driver.session(database=database) as session:\n",
    "        \n",
    "        result = session.run(query, \n",
    "                             parentFolderPath=parent_folder_path,\n",
    "                             parentFolderName=parent_folder_name)\n",
    "        \n",
    "        print(\"Related Subfolders to Base Folder\")\n",
    "        for record in result:\n",
    "            print()\n",
    "            print(f\"  Parent Folder: {record['parent']['filepath']}\")\n",
    "            print(f\"      Subfolder: {record['subfolder']['filepath']}\")\n",
    "            print()\n",
    "            \n",
    "    driver.close()\n"
   ]
  },
  {
   "cell_type": "code",
   "execution_count": 2,
   "id": "0ed7462e-ac0b-4cf8-9b24-f3728f315827",
   "metadata": {},
   "outputs": [
    {
     "name": "stdout",
     "output_type": "stream",
     "text": [
      "State saved to /mnt/data/archive/LaraM_Full_Dataset/JnJ_MIT_uCTshare/tree.pkl.\n",
      "State saved to /mnt/data/archive/LaraM_Full_Dataset/$RECYCLE.BIN/tree.pkl.\n",
      "State saved to /mnt/data/archive/LaraM_Full_Dataset/System Volume Information/tree.pkl.\n",
      "State saved to /mnt/data/archive/LaraM_Full_Dataset/1_post_Rec/tree.pkl.\n",
      "State saved to /mnt/data/archive/LaraM_Full_Dataset/1.10.22_SW/tree.pkl.\n",
      "Error reading file /mnt/data/archive/LaraM_Full_Dataset/4.06.22_SW_U26/327/._327.log: 'utf-8' codec can't decode byte 0xb0 in position 37: invalid start byte\n",
      "State saved to /mnt/data/archive/LaraM_Full_Dataset/Sam_Normal mice/tree.pkl.\n",
      "State saved to /mnt/data/archive/LaraM_Full_Dataset/11.09.21_SW_U19/tree.pkl.\n",
      "State saved to /mnt/data/archive/LaraM_Full_Dataset/_Jnj/tree.pkl.\n",
      "State saved to /mnt/data/archive/LaraM_Full_Dataset/4.06.22_SW_U26/tree.pkl.\n",
      "State saved to /mnt/data/archive/LaraM_Full_Dataset/4.20.22_SW_U26(7)/tree.pkl.\n",
      "State saved to /mnt/data/archive/LaraM_Full_Dataset/12.06.21_SW_U19_U20/tree.pkl.\n",
      "State saved to /mnt/data/archive/LaraM_Full_Dataset/02.1.22_sw/tree.pkl.\n",
      "State saved to /mnt/data/archive/LaraM_Full_Dataset/07.26.21_SW/tree.pkl.\n",
      "State saved to /mnt/data/archive/LaraM_Full_Dataset/07.30.21_sw/tree.pkl.\n",
      "State saved to /mnt/data/archive/LaraM_Full_Dataset/070521/tree.pkl.\n",
      "State saved to /mnt/data/archive/LaraM_Full_Dataset/12.2.21_SW_USGI_U19/tree.pkl.\n",
      "State saved to /mnt/data/archive/LaraM_Full_Dataset/09.15.21_SW_U18/tree.pkl.\n",
      "State saved to /mnt/data/archive/LaraM_Full_Dataset/09.19.21_SW_U18/tree.pkl.\n",
      "State saved to /mnt/data/archive/LaraM_Full_Dataset/09.11.21_SW_U18/tree.pkl.\n",
      "State saved to /mnt/data/archive/LaraM_Full_Dataset/1.18.22_SW/tree.pkl.\n",
      "State saved to /mnt/data/archive/LaraM_Full_Dataset/05.11.22_SW_U26_U27/tree.pkl.\n",
      "State saved to /mnt/data/archive/LaraM_Full_Dataset/12.28.21_SW_U20/tree.pkl.\n",
      "State saved to /mnt/data/archive/LaraM_Full_Dataset/11.29.21_SW_U20/tree.pkl.\n",
      "State saved to /mnt/data/archive/LaraM_Full_Dataset/U50/tree.pkl.\n",
      "State saved to /mnt/data/archive/LaraM_Full_Dataset/07.23.21_sw/tree.pkl.\n",
      "State saved to /mnt/data/archive/LaraM_Full_Dataset/4.21.22_SW_U30/tree.pkl.\n",
      "State saved to /mnt/data/archive/LaraM_Full_Dataset/U42_Florian/tree.pkl.\n",
      "State saved to /mnt/data/archive/LaraM_Full_Dataset/09.07.21_SW_U16_USGI/tree.pkl.\n",
      "State saved to /mnt/data/archive/LaraM_Full_Dataset/4.27.22_SW/tree.pkl.\n",
      "State saved to /mnt/data/archive/LaraM_Full_Dataset/U19_10.15.21_SW/tree.pkl.\n",
      "State saved to /mnt/data/archive/LaraM_Full_Dataset/08.10.21_SW/tree.pkl.\n",
      "State saved to /mnt/data/archive/LaraM_Full_Dataset/U13/tree.pkl.\n",
      "State saved to /mnt/data/archive/LaraM_Full_Dataset/09.06.21_sw_U18/tree.pkl.\n",
      "State saved to /mnt/data/archive/LaraM_Full_Dataset/08.18.21_SW/tree.pkl.\n",
      "State saved to /mnt/data/archive/LaraM_Full_Dataset/09.05.2022_LM_U35_LLC/tree.pkl.\n",
      "State saved to /mnt/data/archive/LaraM_Full_Dataset/09.24.21_SW_USGI/tree.pkl.\n",
      "State saved to /mnt/data/archive/LaraM_Full_Dataset/02.27.22_SW/tree.pkl.\n",
      "State saved to /mnt/data/archive/LaraM_Full_Dataset/05.26.22_SW_U26/tree.pkl.\n",
      "State saved to /mnt/data/archive/LaraM_Full_Dataset/6.6.22_SW_u26/tree.pkl.\n",
      "State saved to /mnt/data/archive/LaraM_Full_Dataset/11.16.21_SW_U19_U20/tree.pkl.\n",
      "State saved to /mnt/data/archive/LaraM_Full_Dataset/1.4.22_SW/tree.pkl.\n",
      "State saved to /mnt/data/archive/LaraM_Full_Dataset/10.07.21_SW/tree.pkl.\n",
      "State saved to /mnt/data/archive/LaraM_Full_Dataset/03.05.22_U25/tree.pkl.\n",
      "State saved to /mnt/data/archive/LaraM_Full_Dataset/6.21.22_sw_u33/tree.pkl.\n",
      "State saved to /mnt/data/archive/LaraM_Full_Dataset/U46/tree.pkl.\n",
      "State saved to /mnt/data/archive/LaraM_Full_Dataset/03.03.22_SW_U20_u26/tree.pkl.\n",
      "State saved to /mnt/data/archive/LaraM_Full_Dataset/1.3.22_SW_U20/tree.pkl.\n",
      "State saved to /mnt/data/archive/LaraM_Full_Dataset/03.17.22_SW/tree.pkl.\n",
      "State saved to /mnt/data/archive/LaraM_Full_Dataset/U48/tree.pkl.\n",
      "State saved to /mnt/data/archive/LaraM_Full_Dataset/11.3.21_SW/tree.pkl.\n",
      "State saved to /mnt/data/archive/LaraM_Full_Dataset/U11(04.22.21)/tree.pkl.\n",
      "State saved to /mnt/data/archive/LaraM_Full_Dataset/U49/tree.pkl.\n",
      "State saved to /mnt/data/archive/LaraM_Full_Dataset/4.12.22_SW_U28/tree.pkl.\n",
      "State saved to /mnt/data/archive/LaraM_Full_Dataset/02.18.22_SW_u25/tree.pkl.\n",
      "State saved to /mnt/data/archive/LaraM_Full_Dataset/1_pre_Rec/tree.pkl.\n",
      "State saved to /mnt/data/archive/LaraM_Full_Dataset/02.3.22_740_SW/tree.pkl.\n",
      "State saved to /mnt/data/archive/LaraM_Full_Dataset/10.26.21_SW/tree.pkl.\n",
      "State saved to /mnt/data/archive/LaraM_Full_Dataset/11.23.21_SW_U19_U20/tree.pkl.\n",
      "State saved to /mnt/data/archive/LaraM_Full_Dataset/02.12.22_SW_U25/tree.pkl.\n",
      "State saved to /mnt/data/archive/LaraM_Full_Dataset/12.15.21_SW_U22_U23/tree.pkl.\n",
      "State saved to /mnt/data/archive/LaraM_Full_Dataset/U44/tree.pkl.\n",
      "State saved to /mnt/data/archive/LaraM_Full_Dataset/1.27.22_SW/tree.pkl.\n",
      "State saved to /mnt/data/archive/LaraM_Full_Dataset/U29_101522/tree.pkl.\n",
      "State saved to /mnt/data/archive/LaraM_Full_Dataset/Barium_U37_101222/tree.pkl.\n",
      "State saved to /mnt/data/archive/LaraM_Full_Dataset/02.15.22_U20_U25_SW/tree.pkl.\n",
      "State saved to /mnt/data/archive/LaraM_Full_Dataset/04.16.21_SW/tree.pkl.\n",
      "State saved to /mnt/data/archive/LaraM_Full_Dataset/20.12.21_SW_U20_U22_U23/tree.pkl.\n",
      "State saved to /mnt/data/archive/LaraM_Full_Dataset/U12/tree.pkl.\n",
      "State saved to /mnt/data/archive/LaraM_Full_Dataset/05.09.22_SW_organoids/tree.pkl.\n",
      "State saved to /mnt/data/archive/LaraM_Full_Dataset/U9/tree.pkl.\n",
      "State saved to /mnt/data/archive/LaraM_Full_Dataset/4.25.22_SW_u29/tree.pkl.\n",
      "State saved to /mnt/data/archive/LaraM_Full_Dataset/12.14.21_SW_U20/tree.pkl.\n",
      "State saved to /mnt/data/archive/LaraM_Full_Dataset/10_31_2022_U29/tree.pkl.\n",
      "State saved to /mnt/data/archive/LaraM_Full_Dataset/U19_10.11.21_sw/tree.pkl.\n",
      "State saved to /mnt/data/archive/LaraM_Full_Dataset/11.18.21_SW_USGI/tree.pkl.\n",
      "State saved to /mnt/data/archive/LaraM_Full_Dataset/10.21.21_SW/tree.pkl.\n",
      "State saved to /mnt/data/archive/LaraM_Full_Dataset/3.28.22_SW/tree.pkl.\n",
      "State saved to /mnt/data/archive/LaraM_Full_Dataset/4.20.22_SW_U27/tree.pkl.\n",
      "State saved to /mnt/data/archive/LaraM_Full_Dataset/3.31.22_SW_u27/tree.pkl.\n",
      "State saved to /mnt/data/archive/LaraM_Full_Dataset/U29_organoids_092122_5mo/tree.pkl.\n",
      "State saved to /mnt/data/archive/LaraM_Full_Dataset/09.03.21_sw_U18/tree.pkl.\n",
      "State saved to /mnt/data/archive/LaraM_Full_Dataset/U47/tree.pkl.\n",
      "State saved to /mnt/data/archive/LaraM_Full_Dataset/04.06.22_SW_U27/tree.pkl.\n",
      "State saved to /mnt/data/archive/LaraM_Full_Dataset/4.12.22_SW_U27/tree.pkl.\n",
      "State saved to /mnt/data/archive/LaraM_Full_Dataset/U16/tree.pkl.\n",
      "State saved to /mnt/data/archive/LaraM_Full_Dataset/U37/tree.pkl.\n",
      "State saved to /mnt/data/archive/LaraM_Full_Dataset/05.23.22_SW_organoids/tree.pkl.\n",
      "State saved to /mnt/data/archive/LaraM_Full_Dataset/03.02.22_SW/tree.pkl.\n",
      "State saved to /mnt/data/archive/LaraM_Full_Dataset/6.9.22_SW_organoids/tree.pkl.\n",
      "State saved to /mnt/data/archive/LaraM_Full_Dataset/5.3.22_SW_u31/tree.pkl.\n",
      "State saved to /mnt/data/archive/LaraM_Full_Dataset/08.30.21_sw/tree.pkl.\n",
      "State saved to /mnt/data/archive/LaraM_Full_Dataset/02.24.22_SW_U25/tree.pkl.\n",
      "State saved to /mnt/data/archive/LaraM_Full_Dataset/05.06.22_SW_U32/tree.pkl.\n",
      "State saved to /mnt/data/archive/LaraM_Full_Dataset/U39/tree.pkl.\n",
      "State saved to /mnt/data/archive/LaraM_Full_Dataset/U10/tree.pkl.\n",
      "State saved to /mnt/data/archive/LaraM_Full_Dataset/5.12.22_SW_U32/tree.pkl.\n",
      "State saved to /mnt/data/archive/LaraM_Full_Dataset/U14/tree.pkl.\n",
      "State saved to /mnt/data/archive/LaraM_Full_Dataset/4.12.22_SW_U26/tree.pkl.\n",
      "State saved to /mnt/data/archive/LaraM_Full_Dataset/12.09.21_SW_U22_U23_U18/tree.pkl.\n",
      "State saved to /mnt/data/archive/LaraM_Full_Dataset/02.09.22_SW_U25_U20/tree.pkl.\n",
      "State saved to /mnt/data/archive/LaraM_Full_Dataset/02.21.22_SW_U25_U20/tree.pkl.\n",
      "State saved to /mnt/data/archive/LaraM_Full_Dataset/08.31.22_U34_LM/tree.pkl.\n",
      "State saved to /mnt/data/archive/LaraM_Full_Dataset/U38/tree.pkl.\n",
      "State saved to /mnt/data/archive/LaraM_Full_Dataset/U52/tree.pkl.\n",
      "State saved to /mnt/data/archive/LaraM_Full_Dataset/u11/tree.pkl.\n",
      "State saved to /mnt/data/archive/LaraM_Full_Dataset/100522_U36_LLC_KP/tree.pkl.\n",
      "State saved to /mnt/data/archive/LaraM_Full_Dataset/U15/tree.pkl.\n",
      "State saved to /mnt/data/archive/LaraM_Full_Dataset/U7/tree.pkl.\n",
      "State saved to /mnt/data/archive/LaraM_Full_Dataset/U51/tree.pkl.\n",
      "State saved to /mnt/data/archive/LaraM_Full_Dataset/U41/tree.pkl.\n",
      "State saved to /mnt/data/archive/LaraM_Full_Dataset/U40/tree.pkl.\n",
      "State saved to /mnt/data/archive/LaraM_Full_Dataset/U17/tree.pkl.\n",
      "U38\n",
      "State loaded from /mnt/data/archive/LaraM_Full_Dataset/U38/tree.pkl.\n",
      "No graph file found at /mnt/data/archive/LaraM_Full_Dataset/U38/tree.graphml.\n",
      "File path index built.\n",
      "File tree graph built.\n",
      "aenter called\n"
     ]
    },
    {
     "name": "stderr",
     "output_type": "stream",
     "text": [
      "Nodes: 100%|███████████████████████████████████████████████████| 67499/67499 [00:38<00:00, 1753.15it/s]\n",
      "Edges: 100%|███████████████████████████████████████████████████| 67498/67498 [00:32<00:00, 2076.97it/s]\n"
     ]
    },
    {
     "name": "stdout",
     "output_type": "stream",
     "text": [
      "aexit called\n",
      "Graph loading complete!\n",
      "U52\n",
      "State loaded from /mnt/data/archive/LaraM_Full_Dataset/U52/tree.pkl.\n",
      "No graph file found at /mnt/data/archive/LaraM_Full_Dataset/U52/tree.graphml.\n",
      "File path index built.\n",
      "File tree graph built.\n",
      "aenter called\n"
     ]
    },
    {
     "name": "stderr",
     "output_type": "stream",
     "text": [
      "Nodes: 100%|███████████████████████████████████████████████████| 68005/68005 [00:38<00:00, 1753.28it/s]\n",
      "Edges: 100%|███████████████████████████████████████████████████| 68004/68004 [00:30<00:00, 2233.62it/s]\n"
     ]
    },
    {
     "name": "stdout",
     "output_type": "stream",
     "text": [
      "aexit called\n",
      "Graph loading complete!\n",
      "03.17.22_SW\n",
      "State loaded from /mnt/data/archive/LaraM_Full_Dataset/03.17.22_SW/tree.pkl.\n",
      "No graph file found at /mnt/data/archive/LaraM_Full_Dataset/03.17.22_SW/tree.graphml.\n",
      "File path index built.\n",
      "File tree graph built.\n",
      "aenter called\n"
     ]
    },
    {
     "name": "stderr",
     "output_type": "stream",
     "text": [
      "Nodes: 100%|███████████████████████████████████████████████████| 30522/30522 [00:18<00:00, 1646.27it/s]\n",
      "Edges: 100%|███████████████████████████████████████████████████| 30521/30521 [00:14<00:00, 2168.61it/s]\n"
     ]
    },
    {
     "name": "stdout",
     "output_type": "stream",
     "text": [
      "aexit called\n",
      "Graph loading complete!\n",
      "4.06.22_SW_U26\n",
      "State loaded from /mnt/data/archive/LaraM_Full_Dataset/4.06.22_SW_U26/tree.pkl.\n",
      "No graph file found at /mnt/data/archive/LaraM_Full_Dataset/4.06.22_SW_U26/tree.graphml.\n",
      "File path index built.\n",
      "File tree graph built.\n",
      "aenter called\n"
     ]
    },
    {
     "name": "stderr",
     "output_type": "stream",
     "text": [
      "Nodes: 100%|█████████████████████████████████████████████████████| 7752/7752 [00:06<00:00, 1221.46it/s]\n",
      "Edges: 100%|█████████████████████████████████████████████████████| 7751/7751 [00:03<00:00, 2195.14it/s]\n"
     ]
    },
    {
     "name": "stdout",
     "output_type": "stream",
     "text": [
      "aexit called\n",
      "Graph loading complete!\n",
      "U9\n",
      "State loaded from /mnt/data/archive/LaraM_Full_Dataset/U9/tree.pkl.\n",
      "No graph file found at /mnt/data/archive/LaraM_Full_Dataset/U9/tree.graphml.\n",
      "File path index built.\n",
      "File tree graph built.\n",
      "aenter called\n"
     ]
    },
    {
     "name": "stderr",
     "output_type": "stream",
     "text": [
      "Nodes: 100%|███████████████████████████████████████████████████| 39142/39142 [00:21<00:00, 1784.28it/s]\n",
      "Edges: 100%|███████████████████████████████████████████████████| 39141/39141 [00:17<00:00, 2222.30it/s]\n"
     ]
    },
    {
     "name": "stdout",
     "output_type": "stream",
     "text": [
      "aexit called\n",
      "Graph loading complete!\n",
      "11.09.21_SW_U19\n",
      "State loaded from /mnt/data/archive/LaraM_Full_Dataset/11.09.21_SW_U19/tree.pkl.\n",
      "No graph file found at /mnt/data/archive/LaraM_Full_Dataset/11.09.21_SW_U19/tree.graphml.\n",
      "File path index built.\n",
      "File tree graph built.\n",
      "aenter called\n"
     ]
    },
    {
     "name": "stderr",
     "output_type": "stream",
     "text": [
      "Nodes: 100%|█████████████████████████████████████████████████████| 4562/4562 [00:02<00:00, 2014.77it/s]\n",
      "Edges: 100%|█████████████████████████████████████████████████████| 4561/4561 [00:01<00:00, 2314.83it/s]\n"
     ]
    },
    {
     "name": "stdout",
     "output_type": "stream",
     "text": [
      "aexit called\n",
      "Graph loading complete!\n",
      "U44\n",
      "State loaded from /mnt/data/archive/LaraM_Full_Dataset/U44/tree.pkl.\n",
      "No graph file found at /mnt/data/archive/LaraM_Full_Dataset/U44/tree.graphml.\n",
      "File path index built.\n",
      "File tree graph built.\n",
      "aenter called\n"
     ]
    },
    {
     "name": "stderr",
     "output_type": "stream",
     "text": [
      "Nodes: 100%|███████████████████████████████████████████████████| 34162/34162 [00:20<00:00, 1672.09it/s]\n",
      "Edges: 100%|███████████████████████████████████████████████████| 34161/34161 [00:16<00:00, 2127.12it/s]\n"
     ]
    },
    {
     "name": "stdout",
     "output_type": "stream",
     "text": [
      "aexit called\n",
      "Graph loading complete!\n",
      "4.27.22_SW\n",
      "State loaded from /mnt/data/archive/LaraM_Full_Dataset/4.27.22_SW/tree.pkl.\n",
      "No graph file found at /mnt/data/archive/LaraM_Full_Dataset/4.27.22_SW/tree.graphml.\n",
      "File path index built.\n",
      "File tree graph built.\n",
      "aenter called\n"
     ]
    },
    {
     "name": "stderr",
     "output_type": "stream",
     "text": [
      "Nodes: 100%|███████████████████████████████████████████████████| 18208/18208 [00:10<00:00, 1704.78it/s]\n",
      "Edges: 100%|███████████████████████████████████████████████████| 18207/18207 [00:08<00:00, 2098.46it/s]\n"
     ]
    },
    {
     "name": "stdout",
     "output_type": "stream",
     "text": [
      "aexit called\n",
      "Graph loading complete!\n",
      "Sam_Normal mice\n",
      "State loaded from /mnt/data/archive/LaraM_Full_Dataset/Sam_Normal mice/tree.pkl.\n",
      "No graph file found at /mnt/data/archive/LaraM_Full_Dataset/Sam_Normal mice/tree.graphml.\n",
      "File path index built.\n",
      "File tree graph built.\n",
      "aenter called\n"
     ]
    },
    {
     "name": "stderr",
     "output_type": "stream",
     "text": [
      "Nodes: 100%|█████████████████████████████████████████████████████| 4294/4294 [00:03<00:00, 1254.59it/s]\n",
      "Edges: 100%|█████████████████████████████████████████████████████| 4293/4293 [00:02<00:00, 2126.23it/s]\n"
     ]
    },
    {
     "name": "stdout",
     "output_type": "stream",
     "text": [
      "aexit called\n",
      "Graph loading complete!\n",
      "U41\n",
      "State loaded from /mnt/data/archive/LaraM_Full_Dataset/U41/tree.pkl.\n",
      "No graph file found at /mnt/data/archive/LaraM_Full_Dataset/U41/tree.graphml.\n",
      "File path index built.\n",
      "File tree graph built.\n",
      "aenter called\n"
     ]
    },
    {
     "name": "stderr",
     "output_type": "stream",
     "text": [
      "Nodes: 100%|█████████████████████████████████████████████████| 141103/141103 [01:17<00:00, 1819.71it/s]\n",
      "Edges: 100%|█████████████████████████████████████████████████| 141102/141102 [01:07<00:00, 2084.97it/s]\n"
     ]
    },
    {
     "name": "stdout",
     "output_type": "stream",
     "text": [
      "aexit called\n",
      "Graph loading complete!\n",
      "08.10.21_SW\n",
      "State loaded from /mnt/data/archive/LaraM_Full_Dataset/08.10.21_SW/tree.pkl.\n",
      "No graph file found at /mnt/data/archive/LaraM_Full_Dataset/08.10.21_SW/tree.graphml.\n",
      "File path index built.\n",
      "File tree graph built.\n",
      "aenter called\n"
     ]
    },
    {
     "name": "stderr",
     "output_type": "stream",
     "text": [
      "Nodes: 100%|███████████████████████████████████████████████████| 20313/20313 [00:10<00:00, 1978.45it/s]\n",
      "Edges: 100%|███████████████████████████████████████████████████| 20312/20312 [00:08<00:00, 2300.49it/s]\n"
     ]
    },
    {
     "name": "stdout",
     "output_type": "stream",
     "text": [
      "aexit called\n",
      "Graph loading complete!\n",
      "4.21.22_SW_U30\n",
      "State loaded from /mnt/data/archive/LaraM_Full_Dataset/4.21.22_SW_U30/tree.pkl.\n",
      "No graph file found at /mnt/data/archive/LaraM_Full_Dataset/4.21.22_SW_U30/tree.graphml.\n",
      "File path index built.\n",
      "File tree graph built.\n",
      "aenter called\n"
     ]
    },
    {
     "name": "stderr",
     "output_type": "stream",
     "text": [
      "Nodes: 100%|███████████████████████████████████████████████████| 16641/16641 [00:15<00:00, 1072.19it/s]\n",
      "Edges: 100%|███████████████████████████████████████████████████| 16640/16640 [00:07<00:00, 2145.61it/s]\n"
     ]
    },
    {
     "name": "stdout",
     "output_type": "stream",
     "text": [
      "aexit called\n",
      "Graph loading complete!\n",
      "100522_U36_LLC_KP\n",
      "State loaded from /mnt/data/archive/LaraM_Full_Dataset/100522_U36_LLC_KP/tree.pkl.\n",
      "No graph file found at /mnt/data/archive/LaraM_Full_Dataset/100522_U36_LLC_KP/tree.graphml.\n",
      "File path index built.\n",
      "File tree graph built.\n",
      "aenter called\n"
     ]
    },
    {
     "name": "stderr",
     "output_type": "stream",
     "text": [
      "Nodes: 100%|███████████████████████████████████████████████████| 92877/92877 [00:54<00:00, 1718.76it/s]\n",
      "Edges: 100%|███████████████████████████████████████████████████| 92876/92876 [00:44<00:00, 2071.02it/s]\n"
     ]
    },
    {
     "name": "stdout",
     "output_type": "stream",
     "text": [
      "aexit called\n",
      "Graph loading complete!\n",
      "U19_10.15.21_SW\n",
      "State loaded from /mnt/data/archive/LaraM_Full_Dataset/U19_10.15.21_SW/tree.pkl.\n",
      "No graph file found at /mnt/data/archive/LaraM_Full_Dataset/U19_10.15.21_SW/tree.graphml.\n",
      "File path index built.\n",
      "File tree graph built.\n",
      "aenter called\n"
     ]
    },
    {
     "name": "stderr",
     "output_type": "stream",
     "text": [
      "Nodes: 100%|███████████████████████████████████████████████████| 20252/20252 [00:09<00:00, 2052.41it/s]\n",
      "Edges: 100%|███████████████████████████████████████████████████| 20251/20251 [00:08<00:00, 2300.17it/s]\n"
     ]
    },
    {
     "name": "stdout",
     "output_type": "stream",
     "text": [
      "aexit called\n",
      "Graph loading complete!\n",
      "_Jnj\n",
      "State loaded from /mnt/data/archive/LaraM_Full_Dataset/_Jnj/tree.pkl.\n",
      "No graph file found at /mnt/data/archive/LaraM_Full_Dataset/_Jnj/tree.graphml.\n",
      "File path index built.\n",
      "File tree graph built.\n",
      "aenter called\n"
     ]
    },
    {
     "name": "stderr",
     "output_type": "stream",
     "text": [
      "Nodes: 100%|█████████████████████████████████████████████████████| 4740/4740 [00:02<00:00, 2051.46it/s]\n",
      "Edges: 100%|██████████████████████████████████████████████████████| 4739/4739 [00:06<00:00, 688.39it/s]\n"
     ]
    },
    {
     "name": "stdout",
     "output_type": "stream",
     "text": [
      "aexit called\n",
      "Graph loading complete!\n",
      "JnJ_MIT_uCTshare\n",
      "State loaded from /mnt/data/archive/LaraM_Full_Dataset/JnJ_MIT_uCTshare/tree.pkl.\n",
      "No graph file found at /mnt/data/archive/LaraM_Full_Dataset/JnJ_MIT_uCTshare/tree.graphml.\n",
      "File path index built.\n",
      "File tree graph built.\n",
      "aenter called\n"
     ]
    },
    {
     "name": "stderr",
     "output_type": "stream",
     "text": [
      "Nodes: 100%|███████████████████████████████████████████████████████████| 1/1 [00:00<00:00, 1085.48it/s]\n",
      "Edges: 0it [00:00, ?it/s]\n"
     ]
    },
    {
     "name": "stdout",
     "output_type": "stream",
     "text": [
      "aexit called\n",
      "Graph loading complete!\n",
      "20.12.21_SW_U20_U22_U23\n",
      "State loaded from /mnt/data/archive/LaraM_Full_Dataset/20.12.21_SW_U20_U22_U23/tree.pkl.\n",
      "No graph file found at /mnt/data/archive/LaraM_Full_Dataset/20.12.21_SW_U20_U22_U23/tree.graphml.\n",
      "File path index built.\n",
      "File tree graph built.\n",
      "aenter called\n"
     ]
    },
    {
     "name": "stderr",
     "output_type": "stream",
     "text": [
      "Nodes: 100%|███████████████████████████████████████████████████| 36729/36729 [00:19<00:00, 1864.60it/s]\n",
      "Edges: 100%|███████████████████████████████████████████████████| 36728/36728 [00:16<00:00, 2221.43it/s]\n"
     ]
    },
    {
     "name": "stdout",
     "output_type": "stream",
     "text": [
      "aexit called\n",
      "Graph loading complete!\n",
      "U51\n",
      "State loaded from /mnt/data/archive/LaraM_Full_Dataset/U51/tree.pkl.\n",
      "No graph file found at /mnt/data/archive/LaraM_Full_Dataset/U51/tree.graphml.\n",
      "File path index built.\n",
      "File tree graph built.\n",
      "aenter called\n"
     ]
    },
    {
     "name": "stderr",
     "output_type": "stream",
     "text": [
      "Nodes: 100%|█████████████████████████████████████████████████| 129148/129148 [01:12<00:00, 1790.23it/s]\n",
      "Edges: 100%|█████████████████████████████████████████████████| 129147/129147 [00:58<00:00, 2210.50it/s]\n"
     ]
    },
    {
     "name": "stdout",
     "output_type": "stream",
     "text": [
      "aexit called\n",
      "Graph loading complete!\n",
      "U40\n",
      "State loaded from /mnt/data/archive/LaraM_Full_Dataset/U40/tree.pkl.\n",
      "No graph file found at /mnt/data/archive/LaraM_Full_Dataset/U40/tree.graphml.\n",
      "File path index built.\n",
      "File tree graph built.\n",
      "aenter called\n"
     ]
    },
    {
     "name": "stderr",
     "output_type": "stream",
     "text": [
      "Nodes: 100%|█████████████████████████████████████████████████| 161503/161503 [01:29<00:00, 1794.95it/s]\n",
      "Edges: 100%|█████████████████████████████████████████████████| 161502/161502 [01:18<00:00, 2051.00it/s]\n"
     ]
    },
    {
     "name": "stdout",
     "output_type": "stream",
     "text": [
      "aexit called\n",
      "Graph loading complete!\n",
      "05.26.22_SW_U26\n",
      "State loaded from /mnt/data/archive/LaraM_Full_Dataset/05.26.22_SW_U26/tree.pkl.\n",
      "No graph file found at /mnt/data/archive/LaraM_Full_Dataset/05.26.22_SW_U26/tree.graphml.\n",
      "File path index built.\n",
      "File tree graph built.\n",
      "aenter called\n"
     ]
    },
    {
     "name": "stderr",
     "output_type": "stream",
     "text": [
      "Nodes: 100%|███████████████████████████████████████████████████| 26820/26820 [00:13<00:00, 1984.54it/s]\n",
      "Edges: 100%|███████████████████████████████████████████████████| 26819/26819 [00:12<00:00, 2123.13it/s]\n"
     ]
    },
    {
     "name": "stdout",
     "output_type": "stream",
     "text": [
      "aexit called\n",
      "Graph loading complete!\n",
      "05.09.22_SW_organoids\n",
      "State loaded from /mnt/data/archive/LaraM_Full_Dataset/05.09.22_SW_organoids/tree.pkl.\n",
      "No graph file found at /mnt/data/archive/LaraM_Full_Dataset/05.09.22_SW_organoids/tree.graphml.\n",
      "File path index built.\n",
      "File tree graph built.\n",
      "aenter called\n"
     ]
    },
    {
     "name": "stderr",
     "output_type": "stream",
     "text": [
      "Nodes: 100%|███████████████████████████████████████████████████| 39454/39454 [00:31<00:00, 1267.94it/s]\n",
      "Edges: 100%|███████████████████████████████████████████████████| 39453/39453 [00:18<00:00, 2141.09it/s]\n"
     ]
    },
    {
     "name": "stdout",
     "output_type": "stream",
     "text": [
      "aexit called\n",
      "Graph loading complete!\n",
      "12.06.21_SW_U19_U20\n",
      "State loaded from /mnt/data/archive/LaraM_Full_Dataset/12.06.21_SW_U19_U20/tree.pkl.\n",
      "No graph file found at /mnt/data/archive/LaraM_Full_Dataset/12.06.21_SW_U19_U20/tree.graphml.\n",
      "File path index built.\n",
      "File tree graph built.\n",
      "aenter called\n"
     ]
    },
    {
     "name": "stderr",
     "output_type": "stream",
     "text": [
      "Nodes: 100%|███████████████████████████████████████████████████| 10240/10240 [00:05<00:00, 1990.69it/s]\n",
      "Edges: 100%|███████████████████████████████████████████████████| 10239/10239 [00:06<00:00, 1564.66it/s]\n"
     ]
    },
    {
     "name": "stdout",
     "output_type": "stream",
     "text": [
      "aexit called\n",
      "Graph loading complete!\n",
      "09.05.2022_LM_U35_LLC\n",
      "State loaded from /mnt/data/archive/LaraM_Full_Dataset/09.05.2022_LM_U35_LLC/tree.pkl.\n",
      "No graph file found at /mnt/data/archive/LaraM_Full_Dataset/09.05.2022_LM_U35_LLC/tree.graphml.\n",
      "File path index built.\n",
      "File tree graph built.\n",
      "aenter called\n"
     ]
    },
    {
     "name": "stderr",
     "output_type": "stream",
     "text": [
      "Nodes: 100%|███████████████████████████████████████████████████| 25278/25278 [00:14<00:00, 1793.13it/s]\n",
      "Edges: 100%|███████████████████████████████████████████████████| 25277/25277 [00:11<00:00, 2169.99it/s]\n"
     ]
    },
    {
     "name": "stdout",
     "output_type": "stream",
     "text": [
      "aexit called\n",
      "Graph loading complete!\n",
      "07.30.21_sw\n",
      "State loaded from /mnt/data/archive/LaraM_Full_Dataset/07.30.21_sw/tree.pkl.\n",
      "No graph file found at /mnt/data/archive/LaraM_Full_Dataset/07.30.21_sw/tree.graphml.\n",
      "File path index built.\n",
      "File tree graph built.\n",
      "aenter called\n"
     ]
    },
    {
     "name": "stderr",
     "output_type": "stream",
     "text": [
      "Nodes: 100%|███████████████████████████████████████████████████| 11356/11356 [00:07<00:00, 1491.92it/s]\n",
      "Edges: 100%|███████████████████████████████████████████████████| 11355/11355 [00:05<00:00, 2058.30it/s]\n"
     ]
    },
    {
     "name": "stdout",
     "output_type": "stream",
     "text": [
      "aexit called\n",
      "Graph loading complete!\n",
      "12.2.21_SW_USGI_U19\n",
      "State loaded from /mnt/data/archive/LaraM_Full_Dataset/12.2.21_SW_USGI_U19/tree.pkl.\n",
      "No graph file found at /mnt/data/archive/LaraM_Full_Dataset/12.2.21_SW_USGI_U19/tree.graphml.\n",
      "File path index built.\n",
      "File tree graph built.\n",
      "aenter called\n"
     ]
    },
    {
     "name": "stderr",
     "output_type": "stream",
     "text": [
      "Nodes: 100%|███████████████████████████████████████████████████| 12218/12218 [00:07<00:00, 1539.02it/s]\n",
      "Edges: 100%|███████████████████████████████████████████████████| 12217/12217 [00:06<00:00, 1997.17it/s]\n"
     ]
    },
    {
     "name": "stdout",
     "output_type": "stream",
     "text": [
      "aexit called\n",
      "Graph loading complete!\n",
      "05.11.22_SW_U26_U27\n",
      "State loaded from /mnt/data/archive/LaraM_Full_Dataset/05.11.22_SW_U26_U27/tree.pkl.\n",
      "No graph file found at /mnt/data/archive/LaraM_Full_Dataset/05.11.22_SW_U26_U27/tree.graphml.\n",
      "File path index built.\n",
      "File tree graph built.\n",
      "aenter called\n"
     ]
    },
    {
     "name": "stderr",
     "output_type": "stream",
     "text": [
      "Nodes: 100%|███████████████████████████████████████████████████| 14599/14599 [00:08<00:00, 1721.18it/s]\n",
      "Edges: 100%|███████████████████████████████████████████████████| 14598/14598 [00:07<00:00, 1988.93it/s]\n"
     ]
    },
    {
     "name": "stdout",
     "output_type": "stream",
     "text": [
      "aexit called\n",
      "Graph loading complete!\n",
      "U47\n",
      "State loaded from /mnt/data/archive/LaraM_Full_Dataset/U47/tree.pkl.\n",
      "No graph file found at /mnt/data/archive/LaraM_Full_Dataset/U47/tree.graphml.\n",
      "File path index built.\n",
      "File tree graph built.\n",
      "aenter called\n"
     ]
    },
    {
     "name": "stderr",
     "output_type": "stream",
     "text": [
      "Nodes: 100%|███████████████████████████████████████████████████| 47874/47874 [00:26<00:00, 1808.17it/s]\n",
      "Edges: 100%|███████████████████████████████████████████████████| 47873/47873 [00:21<00:00, 2197.96it/s]\n"
     ]
    },
    {
     "name": "stdout",
     "output_type": "stream",
     "text": [
      "aexit called\n",
      "Graph loading complete!\n",
      "05.06.22_SW_U32\n",
      "State loaded from /mnt/data/archive/LaraM_Full_Dataset/05.06.22_SW_U32/tree.pkl.\n",
      "No graph file found at /mnt/data/archive/LaraM_Full_Dataset/05.06.22_SW_U32/tree.graphml.\n",
      "File path index built.\n",
      "File tree graph built.\n",
      "aenter called\n"
     ]
    },
    {
     "name": "stderr",
     "output_type": "stream",
     "text": [
      "Nodes: 100%|███████████████████████████████████████████████████| 55658/55658 [00:31<00:00, 1739.92it/s]\n",
      "Edges: 100%|███████████████████████████████████████████████████| 55657/55657 [00:25<00:00, 2169.08it/s]\n"
     ]
    },
    {
     "name": "stdout",
     "output_type": "stream",
     "text": [
      "aexit called\n",
      "Graph loading complete!\n",
      "4.25.22_SW_u29\n",
      "State loaded from /mnt/data/archive/LaraM_Full_Dataset/4.25.22_SW_u29/tree.pkl.\n",
      "No graph file found at /mnt/data/archive/LaraM_Full_Dataset/4.25.22_SW_u29/tree.graphml.\n",
      "File path index built.\n",
      "File tree graph built.\n",
      "aenter called\n"
     ]
    },
    {
     "name": "stderr",
     "output_type": "stream",
     "text": [
      "Nodes: 100%|███████████████████████████████████████████████████| 40010/40010 [00:23<00:00, 1678.71it/s]\n",
      "Edges: 100%|███████████████████████████████████████████████████| 40009/40009 [00:18<00:00, 2146.04it/s]\n"
     ]
    },
    {
     "name": "stdout",
     "output_type": "stream",
     "text": [
      "aexit called\n",
      "Graph loading complete!\n",
      "U13\n",
      "State loaded from /mnt/data/archive/LaraM_Full_Dataset/U13/tree.pkl.\n",
      "No graph file found at /mnt/data/archive/LaraM_Full_Dataset/U13/tree.graphml.\n",
      "File path index built.\n",
      "File tree graph built.\n",
      "aenter called\n"
     ]
    },
    {
     "name": "stderr",
     "output_type": "stream",
     "text": [
      "Nodes: 100%|███████████████████████████████████████████████████| 21963/21963 [00:14<00:00, 1557.41it/s]\n",
      "Edges: 100%|███████████████████████████████████████████████████| 21962/21962 [00:10<00:00, 2134.75it/s]\n"
     ]
    },
    {
     "name": "stdout",
     "output_type": "stream",
     "text": [
      "aexit called\n",
      "Graph loading complete!\n",
      "U17\n",
      "State loaded from /mnt/data/archive/LaraM_Full_Dataset/U17/tree.pkl.\n",
      "No graph file found at /mnt/data/archive/LaraM_Full_Dataset/U17/tree.graphml.\n",
      "File path index built.\n",
      "File tree graph built.\n",
      "aenter called\n"
     ]
    },
    {
     "name": "stderr",
     "output_type": "stream",
     "text": [
      "Nodes: 100%|█████████████████████████████████████████████████| 180384/180384 [01:40<00:00, 1791.04it/s]\n",
      "Edges: 100%|█████████████████████████████████████████████████| 180383/180383 [01:21<00:00, 2206.51it/s]\n"
     ]
    },
    {
     "name": "stdout",
     "output_type": "stream",
     "text": [
      "aexit called\n",
      "Graph loading complete!\n",
      "09.11.21_SW_U18\n",
      "State loaded from /mnt/data/archive/LaraM_Full_Dataset/09.11.21_SW_U18/tree.pkl.\n",
      "No graph file found at /mnt/data/archive/LaraM_Full_Dataset/09.11.21_SW_U18/tree.graphml.\n",
      "File path index built.\n",
      "File tree graph built.\n",
      "aenter called\n"
     ]
    },
    {
     "name": "stderr",
     "output_type": "stream",
     "text": [
      "Nodes: 100%|███████████████████████████████████████████████████| 12405/12405 [00:06<00:00, 1990.40it/s]\n",
      "Edges: 100%|███████████████████████████████████████████████████| 12404/12404 [00:05<00:00, 2172.18it/s]\n"
     ]
    },
    {
     "name": "stdout",
     "output_type": "stream",
     "text": [
      "aexit called\n",
      "Graph loading complete!\n",
      "09.15.21_SW_U18\n",
      "State loaded from /mnt/data/archive/LaraM_Full_Dataset/09.15.21_SW_U18/tree.pkl.\n",
      "No graph file found at /mnt/data/archive/LaraM_Full_Dataset/09.15.21_SW_U18/tree.graphml.\n",
      "File path index built.\n",
      "File tree graph built.\n",
      "aenter called\n"
     ]
    },
    {
     "name": "stderr",
     "output_type": "stream",
     "text": [
      "Nodes: 100%|████████████████████████████████████████████████████| 12339/12339 [00:14<00:00, 832.80it/s]\n",
      "Edges: 100%|███████████████████████████████████████████████████| 12338/12338 [00:05<00:00, 2380.75it/s]\n"
     ]
    },
    {
     "name": "stdout",
     "output_type": "stream",
     "text": [
      "aexit called\n",
      "Graph loading complete!\n",
      "5.12.22_SW_U32\n",
      "State loaded from /mnt/data/archive/LaraM_Full_Dataset/5.12.22_SW_U32/tree.pkl.\n",
      "No graph file found at /mnt/data/archive/LaraM_Full_Dataset/5.12.22_SW_U32/tree.graphml.\n",
      "File path index built.\n",
      "File tree graph built.\n",
      "aenter called\n"
     ]
    },
    {
     "name": "stderr",
     "output_type": "stream",
     "text": [
      "Nodes: 100%|███████████████████████████████████████████████████| 56276/56276 [00:30<00:00, 1851.17it/s]\n",
      "Edges: 100%|███████████████████████████████████████████████████| 56275/56275 [00:24<00:00, 2339.81it/s]\n"
     ]
    },
    {
     "name": "stdout",
     "output_type": "stream",
     "text": [
      "aexit called\n",
      "Graph loading complete!\n",
      "02.15.22_U20_U25_SW\n",
      "State loaded from /mnt/data/archive/LaraM_Full_Dataset/02.15.22_U20_U25_SW/tree.pkl.\n",
      "No graph file found at /mnt/data/archive/LaraM_Full_Dataset/02.15.22_U20_U25_SW/tree.graphml.\n",
      "File path index built.\n",
      "File tree graph built.\n",
      "aenter called\n"
     ]
    },
    {
     "name": "stderr",
     "output_type": "stream",
     "text": [
      "Nodes: 100%|███████████████████████████████████████████████████| 35407/35407 [00:21<00:00, 1612.74it/s]\n",
      "Edges: 100%|███████████████████████████████████████████████████| 35406/35406 [00:16<00:00, 2135.77it/s]\n"
     ]
    },
    {
     "name": "stdout",
     "output_type": "stream",
     "text": [
      "aexit called\n",
      "Graph loading complete!\n",
      "1.10.22_SW\n",
      "State loaded from /mnt/data/archive/LaraM_Full_Dataset/1.10.22_SW/tree.pkl.\n",
      "No graph file found at /mnt/data/archive/LaraM_Full_Dataset/1.10.22_SW/tree.graphml.\n",
      "File path index built.\n",
      "File tree graph built.\n",
      "aenter called\n"
     ]
    },
    {
     "name": "stderr",
     "output_type": "stream",
     "text": [
      "Nodes: 100%|█████████████████████████████████████████████████████| 2310/2310 [00:01<00:00, 2031.11it/s]\n",
      "Edges: 100%|█████████████████████████████████████████████████████| 2309/2309 [00:00<00:00, 2366.85it/s]\n"
     ]
    },
    {
     "name": "stdout",
     "output_type": "stream",
     "text": [
      "aexit called\n",
      "Graph loading complete!\n",
      "02.18.22_SW_u25\n",
      "State loaded from /mnt/data/archive/LaraM_Full_Dataset/02.18.22_SW_u25/tree.pkl.\n",
      "No graph file found at /mnt/data/archive/LaraM_Full_Dataset/02.18.22_SW_u25/tree.graphml.\n",
      "File path index built.\n",
      "File tree graph built.\n",
      "aenter called\n"
     ]
    },
    {
     "name": "stderr",
     "output_type": "stream",
     "text": [
      "Nodes: 100%|███████████████████████████████████████████████████| 33119/33119 [00:20<00:00, 1593.52it/s]\n",
      "Edges: 100%|███████████████████████████████████████████████████| 33118/33118 [00:15<00:00, 2153.36it/s]\n"
     ]
    },
    {
     "name": "stdout",
     "output_type": "stream",
     "text": [
      "aexit called\n",
      "Graph loading complete!\n",
      "03.03.22_SW_U20_u26\n",
      "State loaded from /mnt/data/archive/LaraM_Full_Dataset/03.03.22_SW_U20_u26/tree.pkl.\n",
      "No graph file found at /mnt/data/archive/LaraM_Full_Dataset/03.03.22_SW_U20_u26/tree.graphml.\n",
      "File path index built.\n",
      "File tree graph built.\n",
      "aenter called\n"
     ]
    },
    {
     "name": "stderr",
     "output_type": "stream",
     "text": [
      "Nodes: 100%|███████████████████████████████████████████████████| 30242/30242 [00:17<00:00, 1686.82it/s]\n",
      "Edges: 100%|███████████████████████████████████████████████████| 30241/30241 [00:15<00:00, 1963.76it/s]\n"
     ]
    },
    {
     "name": "stdout",
     "output_type": "stream",
     "text": [
      "aexit called\n",
      "Graph loading complete!\n",
      "$RECYCLE.BIN\n",
      "State loaded from /mnt/data/archive/LaraM_Full_Dataset/$RECYCLE.BIN/tree.pkl.\n",
      "No graph file found at /mnt/data/archive/LaraM_Full_Dataset/$RECYCLE.BIN/tree.graphml.\n",
      "File path index built.\n",
      "File tree graph built.\n",
      "aenter called\n"
     ]
    },
    {
     "name": "stderr",
     "output_type": "stream",
     "text": [
      "Nodes: 100%|███████████████████████████████████████████████████████████| 1/1 [00:00<00:00, 1097.41it/s]\n",
      "Edges: 0it [00:00, ?it/s]"
     ]
    },
    {
     "name": "stdout",
     "output_type": "stream",
     "text": [
      "aexit called\n",
      "Graph loading complete!\n",
      "U29_organoids_092122_5mo\n"
     ]
    },
    {
     "name": "stderr",
     "output_type": "stream",
     "text": [
      "\n"
     ]
    },
    {
     "name": "stdout",
     "output_type": "stream",
     "text": [
      "State loaded from /mnt/data/archive/LaraM_Full_Dataset/U29_organoids_092122_5mo/tree.pkl.\n",
      "No graph file found at /mnt/data/archive/LaraM_Full_Dataset/U29_organoids_092122_5mo/tree.graphml.\n",
      "File path index built.\n",
      "File tree graph built.\n",
      "aenter called\n"
     ]
    },
    {
     "name": "stderr",
     "output_type": "stream",
     "text": [
      "Nodes: 100%|███████████████████████████████████████████████████| 44280/44280 [00:25<00:00, 1742.91it/s]\n",
      "Edges: 100%|███████████████████████████████████████████████████| 44279/44279 [00:23<00:00, 1852.10it/s]\n"
     ]
    },
    {
     "name": "stdout",
     "output_type": "stream",
     "text": [
      "aexit called\n",
      "Graph loading complete!\n",
      "07.26.21_SW\n",
      "State loaded from /mnt/data/archive/LaraM_Full_Dataset/07.26.21_SW/tree.pkl.\n",
      "No graph file found at /mnt/data/archive/LaraM_Full_Dataset/07.26.21_SW/tree.graphml.\n",
      "File path index built.\n",
      "File tree graph built.\n",
      "aenter called\n"
     ]
    },
    {
     "name": "stderr",
     "output_type": "stream",
     "text": [
      "Nodes: 100%|███████████████████████████████████████████████████| 11157/11157 [00:08<00:00, 1375.74it/s]\n",
      "Edges: 100%|███████████████████████████████████████████████████| 11156/11156 [00:05<00:00, 1991.35it/s]\n"
     ]
    },
    {
     "name": "stdout",
     "output_type": "stream",
     "text": [
      "aexit called\n",
      "Graph loading complete!\n",
      "1.4.22_SW\n",
      "State loaded from /mnt/data/archive/LaraM_Full_Dataset/1.4.22_SW/tree.pkl.\n",
      "No graph file found at /mnt/data/archive/LaraM_Full_Dataset/1.4.22_SW/tree.graphml.\n",
      "File path index built.\n",
      "File tree graph built.\n",
      "aenter called\n"
     ]
    },
    {
     "name": "stderr",
     "output_type": "stream",
     "text": [
      "Nodes: 100%|███████████████████████████████████████████████████| 27970/27970 [00:16<00:00, 1720.63it/s]\n",
      "Edges: 100%|███████████████████████████████████████████████████| 27969/27969 [00:12<00:00, 2177.64it/s]\n"
     ]
    },
    {
     "name": "stdout",
     "output_type": "stream",
     "text": [
      "aexit called\n",
      "Graph loading complete!\n",
      "12.15.21_SW_U22_U23\n",
      "State loaded from /mnt/data/archive/LaraM_Full_Dataset/12.15.21_SW_U22_U23/tree.pkl.\n",
      "No graph file found at /mnt/data/archive/LaraM_Full_Dataset/12.15.21_SW_U22_U23/tree.graphml.\n",
      "File path index built.\n",
      "File tree graph built.\n",
      "aenter called\n"
     ]
    },
    {
     "name": "stderr",
     "output_type": "stream",
     "text": [
      "Nodes: 100%|███████████████████████████████████████████████████| 34228/34228 [00:20<00:00, 1705.31it/s]\n",
      "Edges: 100%|███████████████████████████████████████████████████| 34227/34227 [00:15<00:00, 2175.21it/s]\n"
     ]
    },
    {
     "name": "stdout",
     "output_type": "stream",
     "text": [
      "aexit called\n",
      "Graph loading complete!\n",
      "11.29.21_SW_U20\n",
      "State loaded from /mnt/data/archive/LaraM_Full_Dataset/11.29.21_SW_U20/tree.pkl.\n",
      "No graph file found at /mnt/data/archive/LaraM_Full_Dataset/11.29.21_SW_U20/tree.graphml.\n",
      "File path index built.\n",
      "File tree graph built.\n",
      "aenter called\n"
     ]
    },
    {
     "name": "stderr",
     "output_type": "stream",
     "text": [
      "Nodes: 100%|███████████████████████████████████████████████████| 14742/14742 [00:09<00:00, 1577.14it/s]\n",
      "Edges: 100%|███████████████████████████████████████████████████| 14741/14741 [00:06<00:00, 2266.36it/s]\n"
     ]
    },
    {
     "name": "stdout",
     "output_type": "stream",
     "text": [
      "aexit called\n",
      "Graph loading complete!\n",
      "U10\n",
      "State loaded from /mnt/data/archive/LaraM_Full_Dataset/U10/tree.pkl.\n",
      "No graph file found at /mnt/data/archive/LaraM_Full_Dataset/U10/tree.graphml.\n",
      "File path index built.\n",
      "File tree graph built.\n",
      "aenter called\n"
     ]
    },
    {
     "name": "stderr",
     "output_type": "stream",
     "text": [
      "Nodes: 100%|███████████████████████████████████████████████████| 55008/55008 [00:29<00:00, 1847.36it/s]\n",
      "Edges: 100%|███████████████████████████████████████████████████| 55007/55007 [00:26<00:00, 2115.28it/s]\n"
     ]
    },
    {
     "name": "stdout",
     "output_type": "stream",
     "text": [
      "aexit called\n",
      "Graph loading complete!\n",
      "System Volume Information\n",
      "State loaded from /mnt/data/archive/LaraM_Full_Dataset/System Volume Information/tree.pkl.\n",
      "No graph file found at /mnt/data/archive/LaraM_Full_Dataset/System Volume Information/tree.graphml.\n",
      "File path index built.\n",
      "File tree graph built.\n",
      "aenter called\n"
     ]
    },
    {
     "name": "stderr",
     "output_type": "stream",
     "text": [
      "Nodes: 100%|███████████████████████████████████████████████████████████| 1/1 [00:00<00:00, 1041.80it/s]\n",
      "Edges: 0it [00:00, ?it/s]"
     ]
    },
    {
     "name": "stdout",
     "output_type": "stream",
     "text": [
      "aexit called\n",
      "Graph loading complete!\n",
      "U15\n"
     ]
    },
    {
     "name": "stderr",
     "output_type": "stream",
     "text": [
      "\n"
     ]
    },
    {
     "name": "stdout",
     "output_type": "stream",
     "text": [
      "State loaded from /mnt/data/archive/LaraM_Full_Dataset/U15/tree.pkl.\n",
      "No graph file found at /mnt/data/archive/LaraM_Full_Dataset/U15/tree.graphml.\n",
      "File path index built.\n",
      "File tree graph built.\n",
      "aenter called\n"
     ]
    },
    {
     "name": "stderr",
     "output_type": "stream",
     "text": [
      "Nodes: 100%|█████████████████████████████████████████████████| 103780/103780 [00:59<00:00, 1755.85it/s]\n",
      "Edges: 100%|█████████████████████████████████████████████████| 103779/103779 [00:48<00:00, 2147.44it/s]\n"
     ]
    },
    {
     "name": "stdout",
     "output_type": "stream",
     "text": [
      "aexit called\n",
      "Graph loading complete!\n",
      "4.12.22_SW_U28\n",
      "State loaded from /mnt/data/archive/LaraM_Full_Dataset/4.12.22_SW_U28/tree.pkl.\n",
      "No graph file found at /mnt/data/archive/LaraM_Full_Dataset/4.12.22_SW_U28/tree.graphml.\n",
      "File path index built.\n",
      "File tree graph built.\n",
      "aenter called\n"
     ]
    },
    {
     "name": "stderr",
     "output_type": "stream",
     "text": [
      "Nodes: 100%|███████████████████████████████████████████████████| 32767/32767 [00:22<00:00, 1446.13it/s]\n",
      "Edges: 100%|███████████████████████████████████████████████████| 32766/32766 [00:17<00:00, 1887.29it/s]\n"
     ]
    },
    {
     "name": "stdout",
     "output_type": "stream",
     "text": [
      "aexit called\n",
      "Graph loading complete!\n",
      "02.27.22_SW\n",
      "State loaded from /mnt/data/archive/LaraM_Full_Dataset/02.27.22_SW/tree.pkl.\n",
      "No graph file found at /mnt/data/archive/LaraM_Full_Dataset/02.27.22_SW/tree.graphml.\n",
      "File path index built.\n",
      "File tree graph built.\n",
      "aenter called\n"
     ]
    },
    {
     "name": "stderr",
     "output_type": "stream",
     "text": [
      "Nodes: 100%|███████████████████████████████████████████████████| 25916/25916 [00:17<00:00, 1486.34it/s]\n",
      "Edges: 100%|███████████████████████████████████████████████████| 25915/25915 [00:11<00:00, 2230.90it/s]\n"
     ]
    },
    {
     "name": "stdout",
     "output_type": "stream",
     "text": [
      "aexit called\n",
      "Graph loading complete!\n",
      "U48\n",
      "State loaded from /mnt/data/archive/LaraM_Full_Dataset/U48/tree.pkl.\n",
      "No graph file found at /mnt/data/archive/LaraM_Full_Dataset/U48/tree.graphml.\n",
      "File path index built.\n",
      "File tree graph built.\n",
      "aenter called\n"
     ]
    },
    {
     "name": "stderr",
     "output_type": "stream",
     "text": [
      "Nodes: 100%|███████████████████████████████████████████████████| 30941/30941 [00:17<00:00, 1790.05it/s]\n",
      "Edges: 100%|███████████████████████████████████████████████████| 30940/30940 [00:14<00:00, 2101.93it/s]\n"
     ]
    },
    {
     "name": "stdout",
     "output_type": "stream",
     "text": [
      "aexit called\n",
      "Graph loading complete!\n",
      "1_post_Rec\n",
      "State loaded from /mnt/data/archive/LaraM_Full_Dataset/1_post_Rec/tree.pkl.\n",
      "No graph file found at /mnt/data/archive/LaraM_Full_Dataset/1_post_Rec/tree.graphml.\n",
      "File path index built.\n",
      "File tree graph built.\n",
      "aenter called\n"
     ]
    },
    {
     "name": "stderr",
     "output_type": "stream",
     "text": [
      "Nodes: 100%|███████████████████████████████████████████████████████| 403/403 [00:00<00:00, 2114.60it/s]\n",
      "Edges: 100%|███████████████████████████████████████████████████████| 402/402 [00:00<00:00, 2449.99it/s]\n"
     ]
    },
    {
     "name": "stdout",
     "output_type": "stream",
     "text": [
      "aexit called\n",
      "Graph loading complete!\n",
      "02.12.22_SW_U25\n",
      "State loaded from /mnt/data/archive/LaraM_Full_Dataset/02.12.22_SW_U25/tree.pkl.\n",
      "No graph file found at /mnt/data/archive/LaraM_Full_Dataset/02.12.22_SW_U25/tree.graphml.\n",
      "File path index built.\n",
      "File tree graph built.\n",
      "aenter called\n"
     ]
    },
    {
     "name": "stderr",
     "output_type": "stream",
     "text": [
      "Nodes: 100%|███████████████████████████████████████████████████| 34115/34115 [00:19<00:00, 1732.99it/s]\n",
      "Edges: 100%|███████████████████████████████████████████████████| 34114/34114 [00:15<00:00, 2136.83it/s]\n"
     ]
    },
    {
     "name": "stdout",
     "output_type": "stream",
     "text": [
      "aexit called\n",
      "Graph loading complete!\n",
      "U16\n",
      "State loaded from /mnt/data/archive/LaraM_Full_Dataset/U16/tree.pkl.\n",
      "No graph file found at /mnt/data/archive/LaraM_Full_Dataset/U16/tree.graphml.\n",
      "File path index built.\n",
      "File tree graph built.\n",
      "aenter called\n"
     ]
    },
    {
     "name": "stderr",
     "output_type": "stream",
     "text": [
      "Nodes: 100%|███████████████████████████████████████████████████| 50952/50952 [00:29<00:00, 1702.18it/s]\n",
      "Edges: 100%|███████████████████████████████████████████████████| 50951/50951 [00:23<00:00, 2159.16it/s]\n"
     ]
    },
    {
     "name": "stdout",
     "output_type": "stream",
     "text": [
      "aexit called\n",
      "Graph loading complete!\n",
      "U50\n",
      "State loaded from /mnt/data/archive/LaraM_Full_Dataset/U50/tree.pkl.\n",
      "No graph file found at /mnt/data/archive/LaraM_Full_Dataset/U50/tree.graphml.\n",
      "File path index built.\n",
      "File tree graph built.\n",
      "aenter called\n"
     ]
    },
    {
     "name": "stderr",
     "output_type": "stream",
     "text": [
      "Nodes: 100%|███████████████████████████████████████████████████| 15185/15185 [00:11<00:00, 1378.39it/s]\n",
      "Edges: 100%|███████████████████████████████████████████████████| 15184/15184 [00:06<00:00, 2238.61it/s]\n"
     ]
    },
    {
     "name": "stdout",
     "output_type": "stream",
     "text": [
      "aexit called\n",
      "Graph loading complete!\n",
      "11.16.21_SW_U19_U20\n",
      "State loaded from /mnt/data/archive/LaraM_Full_Dataset/11.16.21_SW_U19_U20/tree.pkl.\n",
      "No graph file found at /mnt/data/archive/LaraM_Full_Dataset/11.16.21_SW_U19_U20/tree.graphml.\n",
      "File path index built.\n",
      "File tree graph built.\n",
      "aenter called\n"
     ]
    },
    {
     "name": "stderr",
     "output_type": "stream",
     "text": [
      "Nodes: 100%|███████████████████████████████████████████████████| 27201/27201 [00:16<00:00, 1684.08it/s]\n",
      "Edges: 100%|███████████████████████████████████████████████████| 27200/27200 [00:12<00:00, 2210.68it/s]\n"
     ]
    },
    {
     "name": "stdout",
     "output_type": "stream",
     "text": [
      "aexit called\n",
      "Graph loading complete!\n",
      "09.19.21_SW_U18\n",
      "State loaded from /mnt/data/archive/LaraM_Full_Dataset/09.19.21_SW_U18/tree.pkl.\n",
      "No graph file found at /mnt/data/archive/LaraM_Full_Dataset/09.19.21_SW_U18/tree.graphml.\n",
      "File path index built.\n",
      "File tree graph built.\n",
      "aenter called\n"
     ]
    },
    {
     "name": "stderr",
     "output_type": "stream",
     "text": [
      "Nodes: 100%|███████████████████████████████████████████████████| 12382/12382 [00:07<00:00, 1563.64it/s]\n",
      "Edges: 100%|███████████████████████████████████████████████████| 12381/12381 [00:05<00:00, 2106.92it/s]\n"
     ]
    },
    {
     "name": "stdout",
     "output_type": "stream",
     "text": [
      "aexit called\n",
      "Graph loading complete!\n",
      "4.20.22_SW_U26(7)\n",
      "State loaded from /mnt/data/archive/LaraM_Full_Dataset/4.20.22_SW_U26(7)/tree.pkl.\n",
      "No graph file found at /mnt/data/archive/LaraM_Full_Dataset/4.20.22_SW_U26(7)/tree.graphml.\n",
      "File path index built.\n",
      "File tree graph built.\n",
      "aenter called\n"
     ]
    },
    {
     "name": "stderr",
     "output_type": "stream",
     "text": [
      "Nodes: 100%|█████████████████████████████████████████████████████| 7984/7984 [00:04<00:00, 1657.66it/s]\n",
      "Edges: 100%|█████████████████████████████████████████████████████| 7983/7983 [00:03<00:00, 2276.14it/s]\n"
     ]
    },
    {
     "name": "stdout",
     "output_type": "stream",
     "text": [
      "aexit called\n",
      "Graph loading complete!\n",
      "6.6.22_SW_u26\n",
      "State loaded from /mnt/data/archive/LaraM_Full_Dataset/6.6.22_SW_u26/tree.pkl.\n",
      "No graph file found at /mnt/data/archive/LaraM_Full_Dataset/6.6.22_SW_u26/tree.graphml.\n",
      "File path index built.\n",
      "File tree graph built.\n",
      "aenter called\n"
     ]
    },
    {
     "name": "stderr",
     "output_type": "stream",
     "text": [
      "Nodes: 100%|███████████████████████████████████████████████████| 27045/27045 [00:14<00:00, 1847.85it/s]\n",
      "Edges: 100%|███████████████████████████████████████████████████| 27044/27044 [00:12<00:00, 2234.87it/s]\n"
     ]
    },
    {
     "name": "stdout",
     "output_type": "stream",
     "text": [
      "aexit called\n",
      "Graph loading complete!\n",
      "3.31.22_SW_u27\n",
      "State loaded from /mnt/data/archive/LaraM_Full_Dataset/3.31.22_SW_u27/tree.pkl.\n",
      "No graph file found at /mnt/data/archive/LaraM_Full_Dataset/3.31.22_SW_u27/tree.graphml.\n",
      "File path index built.\n",
      "File tree graph built.\n",
      "aenter called\n"
     ]
    },
    {
     "name": "stderr",
     "output_type": "stream",
     "text": [
      "Nodes: 100%|███████████████████████████████████████████████████| 43690/43690 [00:24<00:00, 1755.99it/s]\n",
      "Edges: 100%|███████████████████████████████████████████████████| 43689/43689 [00:19<00:00, 2185.54it/s]\n"
     ]
    },
    {
     "name": "stdout",
     "output_type": "stream",
     "text": [
      "aexit called\n",
      "Graph loading complete!\n",
      "Barium_U37_101222\n",
      "State loaded from /mnt/data/archive/LaraM_Full_Dataset/Barium_U37_101222/tree.pkl.\n",
      "No graph file found at /mnt/data/archive/LaraM_Full_Dataset/Barium_U37_101222/tree.graphml.\n",
      "File path index built.\n",
      "File tree graph built.\n",
      "aenter called\n"
     ]
    },
    {
     "name": "stderr",
     "output_type": "stream",
     "text": [
      "Nodes: 100%|███████████████████████████████████████████████████| 34061/34061 [00:20<00:00, 1636.85it/s]\n",
      "Edges: 100%|███████████████████████████████████████████████████| 34060/34060 [00:15<00:00, 2143.02it/s]\n"
     ]
    },
    {
     "name": "stdout",
     "output_type": "stream",
     "text": [
      "aexit called\n",
      "Graph loading complete!\n",
      "08.18.21_SW\n",
      "State loaded from /mnt/data/archive/LaraM_Full_Dataset/08.18.21_SW/tree.pkl.\n",
      "No graph file found at /mnt/data/archive/LaraM_Full_Dataset/08.18.21_SW/tree.graphml.\n",
      "File path index built.\n",
      "File tree graph built.\n",
      "aenter called\n"
     ]
    },
    {
     "name": "stderr",
     "output_type": "stream",
     "text": [
      "Nodes: 100%|███████████████████████████████████████████████████| 22428/22428 [00:13<00:00, 1629.57it/s]\n",
      "Edges: 100%|███████████████████████████████████████████████████| 22427/22427 [00:10<00:00, 2094.74it/s]\n"
     ]
    },
    {
     "name": "stdout",
     "output_type": "stream",
     "text": [
      "aexit called\n",
      "Graph loading complete!\n",
      "07.23.21_sw\n",
      "State loaded from /mnt/data/archive/LaraM_Full_Dataset/07.23.21_sw/tree.pkl.\n",
      "No graph file found at /mnt/data/archive/LaraM_Full_Dataset/07.23.21_sw/tree.graphml.\n",
      "File path index built.\n",
      "File tree graph built.\n",
      "aenter called\n"
     ]
    },
    {
     "name": "stderr",
     "output_type": "stream",
     "text": [
      "Nodes: 100%|███████████████████████████████████████████████████| 11313/11313 [00:08<00:00, 1398.73it/s]\n",
      "Edges: 100%|███████████████████████████████████████████████████| 11312/11312 [00:05<00:00, 1919.96it/s]\n"
     ]
    },
    {
     "name": "stdout",
     "output_type": "stream",
     "text": [
      "aexit called\n",
      "Graph loading complete!\n",
      "04.06.22_SW_U27\n",
      "State loaded from /mnt/data/archive/LaraM_Full_Dataset/04.06.22_SW_U27/tree.pkl.\n",
      "No graph file found at /mnt/data/archive/LaraM_Full_Dataset/04.06.22_SW_U27/tree.graphml.\n",
      "File path index built.\n",
      "File tree graph built.\n",
      "aenter called\n"
     ]
    },
    {
     "name": "stderr",
     "output_type": "stream",
     "text": [
      "Nodes: 100%|███████████████████████████████████████████████████| 44422/44422 [00:24<00:00, 1798.70it/s]\n",
      "Edges: 100%|███████████████████████████████████████████████████| 44421/44421 [00:19<00:00, 2222.94it/s]\n"
     ]
    },
    {
     "name": "stdout",
     "output_type": "stream",
     "text": [
      "aexit called\n",
      "Graph loading complete!\n",
      "09.07.21_SW_U16_USGI\n",
      "State loaded from /mnt/data/archive/LaraM_Full_Dataset/09.07.21_SW_U16_USGI/tree.pkl.\n",
      "No graph file found at /mnt/data/archive/LaraM_Full_Dataset/09.07.21_SW_U16_USGI/tree.graphml.\n",
      "File path index built.\n",
      "File tree graph built.\n",
      "aenter called\n"
     ]
    },
    {
     "name": "stderr",
     "output_type": "stream",
     "text": [
      "Nodes: 100%|███████████████████████████████████████████████████| 11941/11941 [00:08<00:00, 1401.22it/s]\n",
      "Edges: 100%|███████████████████████████████████████████████████| 11940/11940 [00:05<00:00, 2231.17it/s]\n"
     ]
    },
    {
     "name": "stdout",
     "output_type": "stream",
     "text": [
      "aexit called\n",
      "Graph loading complete!\n",
      "070521\n",
      "State loaded from /mnt/data/archive/LaraM_Full_Dataset/070521/tree.pkl.\n",
      "No graph file found at /mnt/data/archive/LaraM_Full_Dataset/070521/tree.graphml.\n",
      "File path index built.\n",
      "File tree graph built.\n",
      "aenter called\n"
     ]
    },
    {
     "name": "stderr",
     "output_type": "stream",
     "text": [
      "Nodes: 100%|█████████████████████████████████████████████████████| 4156/4156 [00:03<00:00, 1288.98it/s]\n",
      "Edges: 100%|█████████████████████████████████████████████████████| 4155/4155 [00:01<00:00, 2231.60it/s]\n"
     ]
    },
    {
     "name": "stdout",
     "output_type": "stream",
     "text": [
      "aexit called\n",
      "Graph loading complete!\n",
      "02.1.22_sw\n",
      "State loaded from /mnt/data/archive/LaraM_Full_Dataset/02.1.22_sw/tree.pkl.\n",
      "No graph file found at /mnt/data/archive/LaraM_Full_Dataset/02.1.22_sw/tree.graphml.\n",
      "File path index built.\n",
      "File tree graph built.\n",
      "aenter called\n"
     ]
    },
    {
     "name": "stderr",
     "output_type": "stream",
     "text": [
      "Nodes: 100%|█████████████████████████████████████████████████████| 2317/2317 [00:01<00:00, 1488.49it/s]\n",
      "Edges: 100%|█████████████████████████████████████████████████████| 2316/2316 [00:01<00:00, 2188.12it/s]\n"
     ]
    },
    {
     "name": "stdout",
     "output_type": "stream",
     "text": [
      "aexit called\n",
      "Graph loading complete!\n",
      "09.06.21_sw_U18\n",
      "State loaded from /mnt/data/archive/LaraM_Full_Dataset/09.06.21_sw_U18/tree.pkl.\n",
      "No graph file found at /mnt/data/archive/LaraM_Full_Dataset/09.06.21_sw_U18/tree.graphml.\n",
      "File path index built.\n",
      "File tree graph built.\n",
      "aenter called\n"
     ]
    },
    {
     "name": "stderr",
     "output_type": "stream",
     "text": [
      "Nodes: 100%|███████████████████████████████████████████████████| 12321/12321 [00:06<00:00, 1851.72it/s]\n",
      "Edges: 100%|███████████████████████████████████████████████████| 12320/12320 [00:05<00:00, 2225.35it/s]\n"
     ]
    },
    {
     "name": "stdout",
     "output_type": "stream",
     "text": [
      "aexit called\n",
      "Graph loading complete!\n",
      "03.05.22_U25\n",
      "State loaded from /mnt/data/archive/LaraM_Full_Dataset/03.05.22_U25/tree.pkl.\n",
      "No graph file found at /mnt/data/archive/LaraM_Full_Dataset/03.05.22_U25/tree.graphml.\n",
      "File path index built.\n",
      "File tree graph built.\n",
      "aenter called\n"
     ]
    },
    {
     "name": "stderr",
     "output_type": "stream",
     "text": [
      "Nodes: 100%|███████████████████████████████████████████████████| 17958/17958 [00:10<00:00, 1783.81it/s]\n",
      "Edges: 100%|███████████████████████████████████████████████████| 17957/17957 [00:08<00:00, 2181.59it/s]\n"
     ]
    },
    {
     "name": "stdout",
     "output_type": "stream",
     "text": [
      "aexit called\n",
      "Graph loading complete!\n",
      "10.21.21_SW\n",
      "State loaded from /mnt/data/archive/LaraM_Full_Dataset/10.21.21_SW/tree.pkl.\n",
      "No graph file found at /mnt/data/archive/LaraM_Full_Dataset/10.21.21_SW/tree.graphml.\n",
      "File path index built.\n",
      "File tree graph built.\n",
      "aenter called\n"
     ]
    },
    {
     "name": "stderr",
     "output_type": "stream",
     "text": [
      "Nodes: 100%|███████████████████████████████████████████████████| 30549/30549 [00:17<00:00, 1760.57it/s]\n",
      "Edges: 100%|███████████████████████████████████████████████████| 30548/30548 [00:13<00:00, 2185.26it/s]\n"
     ]
    },
    {
     "name": "stdout",
     "output_type": "stream",
     "text": [
      "aexit called\n",
      "Graph loading complete!\n",
      "U49\n",
      "State loaded from /mnt/data/archive/LaraM_Full_Dataset/U49/tree.pkl.\n",
      "No graph file found at /mnt/data/archive/LaraM_Full_Dataset/U49/tree.graphml.\n",
      "File path index built.\n",
      "File tree graph built.\n",
      "aenter called\n"
     ]
    },
    {
     "name": "stderr",
     "output_type": "stream",
     "text": [
      "Nodes: 100%|███████████████████████████████████████████████████| 21120/21120 [00:13<00:00, 1605.65it/s]\n",
      "Edges: 100%|███████████████████████████████████████████████████| 21119/21119 [00:11<00:00, 1792.96it/s]\n"
     ]
    },
    {
     "name": "stdout",
     "output_type": "stream",
     "text": [
      "aexit called\n",
      "Graph loading complete!\n",
      "1.18.22_SW\n",
      "State loaded from /mnt/data/archive/LaraM_Full_Dataset/1.18.22_SW/tree.pkl.\n",
      "No graph file found at /mnt/data/archive/LaraM_Full_Dataset/1.18.22_SW/tree.graphml.\n",
      "File path index built.\n",
      "File tree graph built.\n",
      "aenter called\n"
     ]
    },
    {
     "name": "stderr",
     "output_type": "stream",
     "text": [
      "Nodes: 100%|█████████████████████████████████████████████████████| 2329/2329 [00:01<00:00, 1987.69it/s]\n",
      "Edges: 100%|█████████████████████████████████████████████████████| 2328/2328 [00:00<00:00, 2398.52it/s]\n"
     ]
    },
    {
     "name": "stdout",
     "output_type": "stream",
     "text": [
      "aexit called\n",
      "Graph loading complete!\n",
      "6.21.22_sw_u33\n",
      "State loaded from /mnt/data/archive/LaraM_Full_Dataset/6.21.22_sw_u33/tree.pkl.\n",
      "No graph file found at /mnt/data/archive/LaraM_Full_Dataset/6.21.22_sw_u33/tree.graphml.\n",
      "File path index built.\n",
      "File tree graph built.\n",
      "aenter called\n"
     ]
    },
    {
     "name": "stderr",
     "output_type": "stream",
     "text": [
      "Nodes: 100%|███████████████████████████████████████████████████| 16984/16984 [00:10<00:00, 1654.77it/s]\n",
      "Edges: 100%|███████████████████████████████████████████████████| 16983/16983 [00:07<00:00, 2170.67it/s]\n"
     ]
    },
    {
     "name": "stdout",
     "output_type": "stream",
     "text": [
      "aexit called\n",
      "Graph loading complete!\n",
      "10.07.21_SW\n",
      "State loaded from /mnt/data/archive/LaraM_Full_Dataset/10.07.21_SW/tree.pkl.\n",
      "No graph file found at /mnt/data/archive/LaraM_Full_Dataset/10.07.21_SW/tree.graphml.\n",
      "File path index built.\n",
      "File tree graph built.\n",
      "aenter called\n"
     ]
    },
    {
     "name": "stderr",
     "output_type": "stream",
     "text": [
      "Nodes: 100%|███████████████████████████████████████████████████| 15884/15884 [00:08<00:00, 1827.89it/s]\n",
      "Edges: 100%|███████████████████████████████████████████████████| 15883/15883 [00:07<00:00, 2179.88it/s]\n"
     ]
    },
    {
     "name": "stdout",
     "output_type": "stream",
     "text": [
      "aexit called\n",
      "Graph loading complete!\n",
      "12.28.21_SW_U20\n",
      "State loaded from /mnt/data/archive/LaraM_Full_Dataset/12.28.21_SW_U20/tree.pkl.\n",
      "No graph file found at /mnt/data/archive/LaraM_Full_Dataset/12.28.21_SW_U20/tree.graphml.\n",
      "File path index built.\n",
      "File tree graph built.\n",
      "aenter called\n"
     ]
    },
    {
     "name": "stderr",
     "output_type": "stream",
     "text": [
      "Nodes: 100%|█████████████████████████████████████████████████████| 2311/2311 [00:01<00:00, 2077.57it/s]\n",
      "Edges: 100%|█████████████████████████████████████████████████████| 2310/2310 [00:01<00:00, 2246.36it/s]\n"
     ]
    },
    {
     "name": "stdout",
     "output_type": "stream",
     "text": [
      "aexit called\n",
      "Graph loading complete!\n",
      "10.26.21_SW\n",
      "State loaded from /mnt/data/archive/LaraM_Full_Dataset/10.26.21_SW/tree.pkl.\n",
      "No graph file found at /mnt/data/archive/LaraM_Full_Dataset/10.26.21_SW/tree.graphml.\n",
      "File path index built.\n",
      "File tree graph built.\n",
      "aenter called\n"
     ]
    },
    {
     "name": "stderr",
     "output_type": "stream",
     "text": [
      "Nodes: 100%|███████████████████████████████████████████████████| 21570/21570 [00:13<00:00, 1638.32it/s]\n",
      "Edges: 100%|███████████████████████████████████████████████████| 21569/21569 [00:10<00:00, 2049.34it/s]\n"
     ]
    },
    {
     "name": "stdout",
     "output_type": "stream",
     "text": [
      "aexit called\n",
      "Graph loading complete!\n",
      "6.9.22_SW_organoids\n",
      "State loaded from /mnt/data/archive/LaraM_Full_Dataset/6.9.22_SW_organoids/tree.pkl.\n",
      "No graph file found at /mnt/data/archive/LaraM_Full_Dataset/6.9.22_SW_organoids/tree.graphml.\n",
      "File path index built.\n",
      "File tree graph built.\n",
      "aenter called\n"
     ]
    },
    {
     "name": "stderr",
     "output_type": "stream",
     "text": [
      "Nodes: 100%|███████████████████████████████████████████████████| 38936/38936 [00:22<00:00, 1724.73it/s]\n",
      "Edges: 100%|███████████████████████████████████████████████████| 38935/38935 [00:18<00:00, 2113.79it/s]\n"
     ]
    },
    {
     "name": "stdout",
     "output_type": "stream",
     "text": [
      "aexit called\n",
      "Graph loading complete!\n",
      "05.23.22_SW_organoids\n",
      "State loaded from /mnt/data/archive/LaraM_Full_Dataset/05.23.22_SW_organoids/tree.pkl.\n",
      "No graph file found at /mnt/data/archive/LaraM_Full_Dataset/05.23.22_SW_organoids/tree.graphml.\n",
      "File path index built.\n",
      "File tree graph built.\n",
      "aenter called\n"
     ]
    },
    {
     "name": "stderr",
     "output_type": "stream",
     "text": [
      "Nodes: 100%|███████████████████████████████████████████████████| 38330/38330 [00:23<00:00, 1621.60it/s]\n",
      "Edges: 100%|███████████████████████████████████████████████████| 38329/38329 [00:18<00:00, 2052.77it/s]\n"
     ]
    },
    {
     "name": "stdout",
     "output_type": "stream",
     "text": [
      "aexit called\n",
      "Graph loading complete!\n",
      "09.24.21_SW_USGI\n",
      "State loaded from /mnt/data/archive/LaraM_Full_Dataset/09.24.21_SW_USGI/tree.pkl.\n",
      "No graph file found at /mnt/data/archive/LaraM_Full_Dataset/09.24.21_SW_USGI/tree.graphml.\n",
      "File path index built.\n",
      "File tree graph built.\n",
      "aenter called\n"
     ]
    },
    {
     "name": "stderr",
     "output_type": "stream",
     "text": [
      "Nodes: 100%|███████████████████████████████████████████████████| 11161/11161 [00:06<00:00, 1821.01it/s]\n",
      "Edges: 100%|███████████████████████████████████████████████████| 11160/11160 [00:07<00:00, 1519.76it/s]\n"
     ]
    },
    {
     "name": "stdout",
     "output_type": "stream",
     "text": [
      "aexit called\n",
      "Graph loading complete!\n",
      "3.28.22_SW\n",
      "State loaded from /mnt/data/archive/LaraM_Full_Dataset/3.28.22_SW/tree.pkl.\n",
      "No graph file found at /mnt/data/archive/LaraM_Full_Dataset/3.28.22_SW/tree.graphml.\n",
      "File path index built.\n",
      "File tree graph built.\n",
      "aenter called\n"
     ]
    },
    {
     "name": "stderr",
     "output_type": "stream",
     "text": [
      "Nodes: 100%|███████████████████████████████████████████████████| 28114/28114 [00:16<00:00, 1730.25it/s]\n",
      "Edges: 100%|███████████████████████████████████████████████████| 28113/28113 [00:12<00:00, 2193.25it/s]\n"
     ]
    },
    {
     "name": "stdout",
     "output_type": "stream",
     "text": [
      "aexit called\n",
      "Graph loading complete!\n",
      "U46\n",
      "State loaded from /mnt/data/archive/LaraM_Full_Dataset/U46/tree.pkl.\n",
      "No graph file found at /mnt/data/archive/LaraM_Full_Dataset/U46/tree.graphml.\n",
      "File path index built.\n",
      "File tree graph built.\n",
      "aenter called\n"
     ]
    },
    {
     "name": "stderr",
     "output_type": "stream",
     "text": [
      "Nodes: 100%|███████████████████████████████████████████████████| 14260/14260 [00:08<00:00, 1660.63it/s]\n",
      "Edges: 100%|███████████████████████████████████████████████████| 14259/14259 [00:06<00:00, 2149.97it/s]\n"
     ]
    },
    {
     "name": "stdout",
     "output_type": "stream",
     "text": [
      "aexit called\n",
      "Graph loading complete!\n",
      "U14\n",
      "State loaded from /mnt/data/archive/LaraM_Full_Dataset/U14/tree.pkl.\n",
      "No graph file found at /mnt/data/archive/LaraM_Full_Dataset/U14/tree.graphml.\n",
      "File path index built.\n",
      "File tree graph built.\n",
      "aenter called\n"
     ]
    },
    {
     "name": "stderr",
     "output_type": "stream",
     "text": [
      "Nodes: 100%|███████████████████████████████████████████████████| 39843/39843 [00:22<00:00, 1755.18it/s]\n",
      "Edges: 100%|███████████████████████████████████████████████████| 39842/39842 [00:19<00:00, 2070.55it/s]\n"
     ]
    },
    {
     "name": "stdout",
     "output_type": "stream",
     "text": [
      "aexit called\n",
      "Graph loading complete!\n",
      "U42_Florian\n",
      "State loaded from /mnt/data/archive/LaraM_Full_Dataset/U42_Florian/tree.pkl.\n",
      "No graph file found at /mnt/data/archive/LaraM_Full_Dataset/U42_Florian/tree.graphml.\n",
      "File path index built.\n",
      "File tree graph built.\n",
      "aenter called\n"
     ]
    },
    {
     "name": "stderr",
     "output_type": "stream",
     "text": [
      "Nodes: 100%|███████████████████████████████████████████████████████| 115/115 [00:00<00:00, 2052.92it/s]\n",
      "Edges: 100%|███████████████████████████████████████████████████████| 114/114 [00:00<00:00, 2398.79it/s]"
     ]
    },
    {
     "name": "stdout",
     "output_type": "stream",
     "text": [
      "aexit called\n",
      "Graph loading complete!\n",
      "11.3.21_SW\n",
      "State loaded from /mnt/data/archive/LaraM_Full_Dataset/11.3.21_SW/tree.pkl.\n",
      "No graph file found at /mnt/data/archive/LaraM_Full_Dataset/11.3.21_SW/tree.graphml.\n"
     ]
    },
    {
     "name": "stderr",
     "output_type": "stream",
     "text": [
      "\n"
     ]
    },
    {
     "name": "stdout",
     "output_type": "stream",
     "text": [
      "File path index built.\n",
      "File tree graph built.\n",
      "aenter called\n"
     ]
    },
    {
     "name": "stderr",
     "output_type": "stream",
     "text": [
      "Nodes: 100%|███████████████████████████████████████████████████| 15554/15554 [00:07<00:00, 2048.94it/s]\n",
      "Edges: 100%|███████████████████████████████████████████████████| 15553/15553 [00:08<00:00, 1755.99it/s]\n"
     ]
    },
    {
     "name": "stdout",
     "output_type": "stream",
     "text": [
      "aexit called\n",
      "Graph loading complete!\n",
      "U12\n",
      "State loaded from /mnt/data/archive/LaraM_Full_Dataset/U12/tree.pkl.\n",
      "No graph file found at /mnt/data/archive/LaraM_Full_Dataset/U12/tree.graphml.\n",
      "File path index built.\n",
      "File tree graph built.\n",
      "aenter called\n"
     ]
    },
    {
     "name": "stderr",
     "output_type": "stream",
     "text": [
      "Nodes: 100%|███████████████████████████████████████████████████| 21701/21701 [00:11<00:00, 1848.03it/s]\n",
      "Edges: 100%|███████████████████████████████████████████████████| 21700/21700 [00:10<00:00, 2110.56it/s]\n"
     ]
    },
    {
     "name": "stdout",
     "output_type": "stream",
     "text": [
      "aexit called\n",
      "Graph loading complete!\n",
      "1.27.22_SW\n",
      "State loaded from /mnt/data/archive/LaraM_Full_Dataset/1.27.22_SW/tree.pkl.\n",
      "No graph file found at /mnt/data/archive/LaraM_Full_Dataset/1.27.22_SW/tree.graphml.\n",
      "File path index built.\n",
      "File tree graph built.\n",
      "aenter called\n"
     ]
    },
    {
     "name": "stderr",
     "output_type": "stream",
     "text": [
      "Nodes: 100%|███████████████████████████████████████████████████| 16618/16618 [00:10<00:00, 1618.08it/s]\n",
      "Edges: 100%|███████████████████████████████████████████████████| 16617/16617 [00:07<00:00, 2078.80it/s]\n"
     ]
    },
    {
     "name": "stdout",
     "output_type": "stream",
     "text": [
      "aexit called\n",
      "Graph loading complete!\n",
      "U19_10.11.21_sw\n",
      "State loaded from /mnt/data/archive/LaraM_Full_Dataset/U19_10.11.21_sw/tree.pkl.\n",
      "No graph file found at /mnt/data/archive/LaraM_Full_Dataset/U19_10.11.21_sw/tree.graphml.\n",
      "File path index built.\n",
      "File tree graph built.\n",
      "aenter called\n"
     ]
    },
    {
     "name": "stderr",
     "output_type": "stream",
     "text": [
      "Nodes: 100%|███████████████████████████████████████████████████| 21266/21266 [00:12<00:00, 1715.38it/s]\n",
      "Edges: 100%|███████████████████████████████████████████████████| 21265/21265 [00:10<00:00, 2103.22it/s]\n"
     ]
    },
    {
     "name": "stdout",
     "output_type": "stream",
     "text": [
      "aexit called\n",
      "Graph loading complete!\n",
      "02.3.22_740_SW\n",
      "State loaded from /mnt/data/archive/LaraM_Full_Dataset/02.3.22_740_SW/tree.pkl.\n",
      "No graph file found at /mnt/data/archive/LaraM_Full_Dataset/02.3.22_740_SW/tree.graphml.\n",
      "File path index built.\n",
      "File tree graph built.\n",
      "aenter called\n"
     ]
    },
    {
     "name": "stderr",
     "output_type": "stream",
     "text": [
      "Nodes: 100%|███████████████████████████████████████████████████| 13278/13278 [00:08<00:00, 1602.90it/s]\n",
      "Edges: 100%|███████████████████████████████████████████████████| 13277/13277 [00:06<00:00, 2095.46it/s]\n"
     ]
    },
    {
     "name": "stdout",
     "output_type": "stream",
     "text": [
      "aexit called\n",
      "Graph loading complete!\n",
      "U37\n",
      "State loaded from /mnt/data/archive/LaraM_Full_Dataset/U37/tree.pkl.\n",
      "No graph file found at /mnt/data/archive/LaraM_Full_Dataset/U37/tree.graphml.\n",
      "File path index built.\n",
      "File tree graph built.\n",
      "aenter called\n"
     ]
    },
    {
     "name": "stderr",
     "output_type": "stream",
     "text": [
      "Nodes: 100%|███████████████████████████████████████████████████| 30066/30066 [00:17<00:00, 1736.31it/s]\n",
      "Edges: 100%|███████████████████████████████████████████████████| 30065/30065 [00:14<00:00, 2064.31it/s]\n"
     ]
    },
    {
     "name": "stdout",
     "output_type": "stream",
     "text": [
      "aexit called\n",
      "Graph loading complete!\n",
      "U29_101522\n",
      "State loaded from /mnt/data/archive/LaraM_Full_Dataset/U29_101522/tree.pkl.\n",
      "No graph file found at /mnt/data/archive/LaraM_Full_Dataset/U29_101522/tree.graphml.\n",
      "File path index built.\n",
      "File tree graph built.\n",
      "aenter called\n"
     ]
    },
    {
     "name": "stderr",
     "output_type": "stream",
     "text": [
      "Nodes: 100%|███████████████████████████████████████████████████| 12066/12066 [00:07<00:00, 1532.59it/s]\n",
      "Edges: 100%|███████████████████████████████████████████████████| 12065/12065 [00:05<00:00, 2095.08it/s]\n"
     ]
    },
    {
     "name": "stdout",
     "output_type": "stream",
     "text": [
      "aexit called\n",
      "Graph loading complete!\n",
      "U11(04.22.21)\n",
      "State loaded from /mnt/data/archive/LaraM_Full_Dataset/U11(04.22.21)/tree.pkl.\n",
      "No graph file found at /mnt/data/archive/LaraM_Full_Dataset/U11(04.22.21)/tree.graphml.\n",
      "File path index built.\n",
      "File tree graph built.\n",
      "aenter called\n"
     ]
    },
    {
     "name": "stderr",
     "output_type": "stream",
     "text": [
      "Nodes: 100%|█████████████████████████████████████████████████████| 7414/7414 [00:04<00:00, 1608.27it/s]\n",
      "Edges: 100%|█████████████████████████████████████████████████████| 7413/7413 [00:03<00:00, 2097.53it/s]\n"
     ]
    },
    {
     "name": "stdout",
     "output_type": "stream",
     "text": [
      "aexit called\n",
      "Graph loading complete!\n",
      "08.31.22_U34_LM\n",
      "State loaded from /mnt/data/archive/LaraM_Full_Dataset/08.31.22_U34_LM/tree.pkl.\n",
      "No graph file found at /mnt/data/archive/LaraM_Full_Dataset/08.31.22_U34_LM/tree.graphml.\n",
      "File path index built.\n",
      "File tree graph built.\n",
      "aenter called\n"
     ]
    },
    {
     "name": "stderr",
     "output_type": "stream",
     "text": [
      "Nodes: 100%|███████████████████████████████████████████████████| 39491/39491 [00:22<00:00, 1749.43it/s]\n",
      "Edges: 100%|███████████████████████████████████████████████████| 39490/39490 [00:17<00:00, 2212.30it/s]\n"
     ]
    },
    {
     "name": "stdout",
     "output_type": "stream",
     "text": [
      "aexit called\n",
      "Graph loading complete!\n",
      "08.30.21_sw\n",
      "State loaded from /mnt/data/archive/LaraM_Full_Dataset/08.30.21_sw/tree.pkl.\n",
      "No graph file found at /mnt/data/archive/LaraM_Full_Dataset/08.30.21_sw/tree.graphml.\n",
      "File path index built.\n",
      "File tree graph built.\n",
      "aenter called\n"
     ]
    },
    {
     "name": "stderr",
     "output_type": "stream",
     "text": [
      "Nodes: 100%|███████████████████████████████████████████████████| 29202/29202 [00:17<00:00, 1675.59it/s]\n",
      "Edges: 100%|███████████████████████████████████████████████████| 29201/29201 [00:14<00:00, 2054.04it/s]\n"
     ]
    },
    {
     "name": "stdout",
     "output_type": "stream",
     "text": [
      "aexit called\n",
      "Graph loading complete!\n",
      "11.23.21_SW_U19_U20\n",
      "State loaded from /mnt/data/archive/LaraM_Full_Dataset/11.23.21_SW_U19_U20/tree.pkl.\n",
      "No graph file found at /mnt/data/archive/LaraM_Full_Dataset/11.23.21_SW_U19_U20/tree.graphml.\n",
      "File path index built.\n",
      "File tree graph built.\n",
      "aenter called\n"
     ]
    },
    {
     "name": "stderr",
     "output_type": "stream",
     "text": [
      "Nodes: 100%|█████████████████████████████████████████████████████| 8070/8070 [00:06<00:00, 1292.47it/s]\n",
      "Edges: 100%|█████████████████████████████████████████████████████| 8069/8069 [00:03<00:00, 2075.69it/s]\n"
     ]
    },
    {
     "name": "stdout",
     "output_type": "stream",
     "text": [
      "aexit called\n",
      "Graph loading complete!\n",
      "02.24.22_SW_U25\n",
      "State loaded from /mnt/data/archive/LaraM_Full_Dataset/02.24.22_SW_U25/tree.pkl.\n",
      "No graph file found at /mnt/data/archive/LaraM_Full_Dataset/02.24.22_SW_U25/tree.graphml.\n",
      "File path index built.\n",
      "File tree graph built.\n",
      "aenter called\n"
     ]
    },
    {
     "name": "stderr",
     "output_type": "stream",
     "text": [
      "Nodes: 100%|███████████████████████████████████████████████████| 28577/28577 [00:17<00:00, 1664.88it/s]\n",
      "Edges: 100%|███████████████████████████████████████████████████| 28576/28576 [00:12<00:00, 2215.65it/s]\n"
     ]
    },
    {
     "name": "stdout",
     "output_type": "stream",
     "text": [
      "aexit called\n",
      "Graph loading complete!\n",
      "12.09.21_SW_U22_U23_U18\n",
      "State loaded from /mnt/data/archive/LaraM_Full_Dataset/12.09.21_SW_U22_U23_U18/tree.pkl.\n",
      "No graph file found at /mnt/data/archive/LaraM_Full_Dataset/12.09.21_SW_U22_U23_U18/tree.graphml.\n",
      "File path index built.\n",
      "File tree graph built.\n",
      "aenter called\n"
     ]
    },
    {
     "name": "stderr",
     "output_type": "stream",
     "text": [
      "Nodes: 100%|███████████████████████████████████████████████████| 35413/35413 [00:20<00:00, 1759.49it/s]\n",
      "Edges: 100%|███████████████████████████████████████████████████| 35412/35412 [00:16<00:00, 2175.72it/s]\n"
     ]
    },
    {
     "name": "stdout",
     "output_type": "stream",
     "text": [
      "aexit called\n",
      "Graph loading complete!\n",
      "02.09.22_SW_U25_U20\n",
      "State loaded from /mnt/data/archive/LaraM_Full_Dataset/02.09.22_SW_U25_U20/tree.pkl.\n",
      "No graph file found at /mnt/data/archive/LaraM_Full_Dataset/02.09.22_SW_U25_U20/tree.graphml.\n",
      "File path index built.\n",
      "File tree graph built.\n",
      "aenter called\n"
     ]
    },
    {
     "name": "stderr",
     "output_type": "stream",
     "text": [
      "Nodes: 100%|███████████████████████████████████████████████████| 36194/36194 [00:22<00:00, 1637.30it/s]\n",
      "Edges: 100%|███████████████████████████████████████████████████| 36193/36193 [00:16<00:00, 2135.09it/s]\n"
     ]
    },
    {
     "name": "stdout",
     "output_type": "stream",
     "text": [
      "aexit called\n",
      "Graph loading complete!\n",
      "1.3.22_SW_U20\n",
      "State loaded from /mnt/data/archive/LaraM_Full_Dataset/1.3.22_SW_U20/tree.pkl.\n",
      "No graph file found at /mnt/data/archive/LaraM_Full_Dataset/1.3.22_SW_U20/tree.graphml.\n",
      "File path index built.\n",
      "File tree graph built.\n",
      "aenter called\n"
     ]
    },
    {
     "name": "stderr",
     "output_type": "stream",
     "text": [
      "Nodes: 100%|█████████████████████████████████████████████████████| 2287/2287 [00:01<00:00, 2069.95it/s]\n",
      "Edges: 100%|█████████████████████████████████████████████████████| 2286/2286 [00:00<00:00, 2418.06it/s]\n"
     ]
    },
    {
     "name": "stdout",
     "output_type": "stream",
     "text": [
      "aexit called\n",
      "Graph loading complete!\n",
      "4.20.22_SW_U27\n",
      "State loaded from /mnt/data/archive/LaraM_Full_Dataset/4.20.22_SW_U27/tree.pkl.\n",
      "No graph file found at /mnt/data/archive/LaraM_Full_Dataset/4.20.22_SW_U27/tree.graphml.\n",
      "File path index built.\n",
      "File tree graph built.\n",
      "aenter called\n"
     ]
    },
    {
     "name": "stderr",
     "output_type": "stream",
     "text": [
      "Nodes: 100%|███████████████████████████████████████████████████| 14878/14878 [00:09<00:00, 1515.33it/s]\n",
      "Edges: 100%|███████████████████████████████████████████████████| 14877/14877 [00:06<00:00, 2131.92it/s]\n"
     ]
    },
    {
     "name": "stdout",
     "output_type": "stream",
     "text": [
      "aexit called\n",
      "Graph loading complete!\n",
      "4.12.22_SW_U27\n",
      "State loaded from /mnt/data/archive/LaraM_Full_Dataset/4.12.22_SW_U27/tree.pkl.\n",
      "No graph file found at /mnt/data/archive/LaraM_Full_Dataset/4.12.22_SW_U27/tree.graphml.\n",
      "File path index built.\n",
      "File tree graph built.\n",
      "aenter called\n"
     ]
    },
    {
     "name": "stderr",
     "output_type": "stream",
     "text": [
      "Nodes: 100%|███████████████████████████████████████████████████| 22977/22977 [00:13<00:00, 1723.79it/s]\n",
      "Edges: 100%|███████████████████████████████████████████████████| 22976/22976 [00:10<00:00, 2154.15it/s]\n"
     ]
    },
    {
     "name": "stdout",
     "output_type": "stream",
     "text": [
      "aexit called\n",
      "Graph loading complete!\n",
      "U39\n",
      "State loaded from /mnt/data/archive/LaraM_Full_Dataset/U39/tree.pkl.\n",
      "No graph file found at /mnt/data/archive/LaraM_Full_Dataset/U39/tree.graphml.\n",
      "File path index built.\n",
      "File tree graph built.\n",
      "aenter called\n"
     ]
    },
    {
     "name": "stderr",
     "output_type": "stream",
     "text": [
      "Nodes: 100%|███████████████████████████████████████████████████| 26193/26193 [00:14<00:00, 1757.44it/s]\n",
      "Edges: 100%|███████████████████████████████████████████████████| 26192/26192 [00:11<00:00, 2205.20it/s]\n"
     ]
    },
    {
     "name": "stdout",
     "output_type": "stream",
     "text": [
      "aexit called\n",
      "Graph loading complete!\n",
      "10_31_2022_U29\n",
      "State loaded from /mnt/data/archive/LaraM_Full_Dataset/10_31_2022_U29/tree.pkl.\n",
      "No graph file found at /mnt/data/archive/LaraM_Full_Dataset/10_31_2022_U29/tree.graphml.\n",
      "File path index built.\n",
      "File tree graph built.\n",
      "aenter called\n"
     ]
    },
    {
     "name": "stderr",
     "output_type": "stream",
     "text": [
      "Nodes: 100%|███████████████████████████████████████████████████| 11511/11511 [00:07<00:00, 1461.68it/s]\n",
      "Edges: 100%|███████████████████████████████████████████████████| 11510/11510 [00:05<00:00, 2168.18it/s]\n"
     ]
    },
    {
     "name": "stdout",
     "output_type": "stream",
     "text": [
      "aexit called\n",
      "Graph loading complete!\n",
      "04.16.21_SW\n",
      "State loaded from /mnt/data/archive/LaraM_Full_Dataset/04.16.21_SW/tree.pkl.\n",
      "No graph file found at /mnt/data/archive/LaraM_Full_Dataset/04.16.21_SW/tree.graphml.\n",
      "File path index built.\n",
      "File tree graph built.\n",
      "aenter called\n"
     ]
    },
    {
     "name": "stderr",
     "output_type": "stream",
     "text": [
      "Nodes: 100%|█████████████████████████████████████████████████████| 5461/5461 [00:03<00:00, 1448.98it/s]\n",
      "Edges: 100%|█████████████████████████████████████████████████████| 5460/5460 [00:02<00:00, 2010.80it/s]\n"
     ]
    },
    {
     "name": "stdout",
     "output_type": "stream",
     "text": [
      "aexit called\n",
      "Graph loading complete!\n",
      "U7\n",
      "State loaded from /mnt/data/archive/LaraM_Full_Dataset/U7/tree.pkl.\n",
      "No graph file found at /mnt/data/archive/LaraM_Full_Dataset/U7/tree.graphml.\n",
      "File path index built.\n",
      "File tree graph built.\n",
      "aenter called\n"
     ]
    },
    {
     "name": "stderr",
     "output_type": "stream",
     "text": [
      "Nodes: 100%|███████████████████████████████████████████████████| 77300/77300 [00:42<00:00, 1827.14it/s]\n",
      "Edges: 100%|███████████████████████████████████████████████████| 77299/77299 [00:35<00:00, 2201.94it/s]\n"
     ]
    },
    {
     "name": "stdout",
     "output_type": "stream",
     "text": [
      "aexit called\n",
      "Graph loading complete!\n",
      "11.18.21_SW_USGI\n",
      "State loaded from /mnt/data/archive/LaraM_Full_Dataset/11.18.21_SW_USGI/tree.pkl.\n",
      "No graph file found at /mnt/data/archive/LaraM_Full_Dataset/11.18.21_SW_USGI/tree.graphml.\n",
      "File path index built.\n",
      "File tree graph built.\n",
      "aenter called\n"
     ]
    },
    {
     "name": "stderr",
     "output_type": "stream",
     "text": [
      "Nodes: 100%|███████████████████████████████████████████████████| 11083/11083 [00:05<00:00, 1992.56it/s]\n",
      "Edges: 100%|███████████████████████████████████████████████████| 11082/11082 [00:09<00:00, 1220.86it/s]\n"
     ]
    },
    {
     "name": "stdout",
     "output_type": "stream",
     "text": [
      "aexit called\n",
      "Graph loading complete!\n",
      "u11\n",
      "State loaded from /mnt/data/archive/LaraM_Full_Dataset/u11/tree.pkl.\n",
      "No graph file found at /mnt/data/archive/LaraM_Full_Dataset/u11/tree.graphml.\n",
      "File path index built.\n",
      "File tree graph built.\n",
      "aenter called\n"
     ]
    },
    {
     "name": "stderr",
     "output_type": "stream",
     "text": [
      "Nodes: 100%|███████████████████████████████████████████████████| 39489/39489 [00:22<00:00, 1755.18it/s]\n",
      "Edges: 100%|███████████████████████████████████████████████████| 39488/39488 [00:18<00:00, 2171.89it/s]\n"
     ]
    },
    {
     "name": "stdout",
     "output_type": "stream",
     "text": [
      "aexit called\n",
      "Graph loading complete!\n",
      "12.14.21_SW_U20\n",
      "State loaded from /mnt/data/archive/LaraM_Full_Dataset/12.14.21_SW_U20/tree.pkl.\n",
      "No graph file found at /mnt/data/archive/LaraM_Full_Dataset/12.14.21_SW_U20/tree.graphml.\n",
      "File path index built.\n",
      "File tree graph built.\n",
      "aenter called\n"
     ]
    },
    {
     "name": "stderr",
     "output_type": "stream",
     "text": [
      "Nodes: 100%|█████████████████████████████████████████████████████| 7890/7890 [00:04<00:00, 1748.24it/s]\n",
      "Edges: 100%|█████████████████████████████████████████████████████| 7889/7889 [00:03<00:00, 2106.46it/s]\n"
     ]
    },
    {
     "name": "stdout",
     "output_type": "stream",
     "text": [
      "aexit called\n",
      "Graph loading complete!\n",
      "02.21.22_SW_U25_U20\n",
      "State loaded from /mnt/data/archive/LaraM_Full_Dataset/02.21.22_SW_U25_U20/tree.pkl.\n",
      "No graph file found at /mnt/data/archive/LaraM_Full_Dataset/02.21.22_SW_U25_U20/tree.graphml.\n",
      "File path index built.\n",
      "File tree graph built.\n",
      "aenter called\n"
     ]
    },
    {
     "name": "stderr",
     "output_type": "stream",
     "text": [
      "Nodes: 100%|███████████████████████████████████████████████████| 32952/32952 [00:17<00:00, 1854.02it/s]\n",
      "Edges: 100%|███████████████████████████████████████████████████| 32951/32951 [00:14<00:00, 2202.80it/s]\n"
     ]
    },
    {
     "name": "stdout",
     "output_type": "stream",
     "text": [
      "aexit called\n",
      "Graph loading complete!\n",
      "1_pre_Rec\n",
      "State loaded from /mnt/data/archive/LaraM_Full_Dataset/1_pre_Rec/tree.pkl.\n",
      "No graph file found at /mnt/data/archive/LaraM_Full_Dataset/1_pre_Rec/tree.graphml.\n",
      "File path index built.\n",
      "File tree graph built.\n",
      "aenter called\n"
     ]
    },
    {
     "name": "stderr",
     "output_type": "stream",
     "text": [
      "Nodes: 100%|███████████████████████████████████████████████████████| 413/413 [00:00<00:00, 2192.05it/s]\n",
      "Edges: 100%|███████████████████████████████████████████████████████| 412/412 [00:00<00:00, 2400.26it/s]\n"
     ]
    },
    {
     "name": "stdout",
     "output_type": "stream",
     "text": [
      "aexit called\n",
      "Graph loading complete!\n",
      "03.02.22_SW\n",
      "State loaded from /mnt/data/archive/LaraM_Full_Dataset/03.02.22_SW/tree.pkl.\n",
      "No graph file found at /mnt/data/archive/LaraM_Full_Dataset/03.02.22_SW/tree.graphml.\n",
      "File path index built.\n",
      "File tree graph built.\n",
      "aenter called\n"
     ]
    },
    {
     "name": "stderr",
     "output_type": "stream",
     "text": [
      "Nodes: 100%|███████████████████████████████████████████████████| 20266/20266 [00:11<00:00, 1700.06it/s]\n",
      "Edges: 100%|███████████████████████████████████████████████████| 20265/20265 [00:09<00:00, 2163.87it/s]\n"
     ]
    },
    {
     "name": "stdout",
     "output_type": "stream",
     "text": [
      "aexit called\n",
      "Graph loading complete!\n",
      "4.12.22_SW_U26\n",
      "State loaded from /mnt/data/archive/LaraM_Full_Dataset/4.12.22_SW_U26/tree.pkl.\n",
      "No graph file found at /mnt/data/archive/LaraM_Full_Dataset/4.12.22_SW_U26/tree.graphml.\n",
      "File path index built.\n",
      "File tree graph built.\n",
      "aenter called\n"
     ]
    },
    {
     "name": "stderr",
     "output_type": "stream",
     "text": [
      "Nodes: 100%|███████████████████████████████████████████████████| 27652/27652 [00:15<00:00, 1815.59it/s]\n",
      "Edges: 100%|███████████████████████████████████████████████████| 27651/27651 [00:13<00:00, 2112.40it/s]\n"
     ]
    },
    {
     "name": "stdout",
     "output_type": "stream",
     "text": [
      "aexit called\n",
      "Graph loading complete!\n",
      "5.3.22_SW_u31\n",
      "State loaded from /mnt/data/archive/LaraM_Full_Dataset/5.3.22_SW_u31/tree.pkl.\n",
      "No graph file found at /mnt/data/archive/LaraM_Full_Dataset/5.3.22_SW_u31/tree.graphml.\n",
      "File path index built.\n",
      "File tree graph built.\n",
      "aenter called\n"
     ]
    },
    {
     "name": "stderr",
     "output_type": "stream",
     "text": [
      "Nodes: 100%|███████████████████████████████████████████████████| 21488/21488 [00:12<00:00, 1683.40it/s]\n",
      "Edges: 100%|███████████████████████████████████████████████████| 21487/21487 [00:10<00:00, 2024.08it/s]\n"
     ]
    },
    {
     "name": "stdout",
     "output_type": "stream",
     "text": [
      "aexit called\n",
      "Graph loading complete!\n",
      "09.03.21_sw_U18\n",
      "State loaded from /mnt/data/archive/LaraM_Full_Dataset/09.03.21_sw_U18/tree.pkl.\n",
      "No graph file found at /mnt/data/archive/LaraM_Full_Dataset/09.03.21_sw_U18/tree.graphml.\n",
      "File path index built.\n",
      "File tree graph built.\n",
      "aenter called\n"
     ]
    },
    {
     "name": "stderr",
     "output_type": "stream",
     "text": [
      "Nodes: 100%|███████████████████████████████████████████████████| 12176/12176 [00:07<00:00, 1682.27it/s]\n",
      "Edges: 100%|███████████████████████████████████████████████████| 12175/12175 [00:05<00:00, 2090.27it/s]\n"
     ]
    },
    {
     "name": "stdout",
     "output_type": "stream",
     "text": [
      "aexit called\n",
      "Graph loading complete!\n"
     ]
    },
    {
     "ename": "NameError",
     "evalue": "name 'driver' is not defined",
     "output_type": "error",
     "traceback": [
      "\u001b[0;31m---------------------------------------------------------------------------\u001b[0m",
      "\u001b[0;31mNameError\u001b[0m                                 Traceback (most recent call last)",
      "File \u001b[0;32m<timed exec>:7\u001b[0m, in \u001b[0;36m<module>\u001b[0;34m\u001b[0m\n",
      "\u001b[0;31mNameError\u001b[0m: name 'driver' is not defined"
     ]
    }
   ],
   "source": [
    "%%time\n",
    "\n",
    "database='instruments'\n",
    "base_path = '/mnt/data/archive/LaraM_Full_Dataset'\n",
    "ldf.store.configure_db(database=database)\n",
    "\n",
    "process_parallel(base_path)\n",
    "push_forest_to_db(base_path)\n",
    "create_and_connect_folders(base_path, database=database)"
   ]
  },
  {
   "cell_type": "markdown",
   "id": "d9c27eb2-e9f8-4e20-89cf-94f6e7beb30e",
   "metadata": {},
   "source": [
    "### Push Trees into Forest\n",
    "\n",
    "Next step is to push everything to the database."
   ]
  },
  {
   "cell_type": "markdown",
   "id": "faa36e8d-3517-4ec7-8b93-137d7d81f0a7",
   "metadata": {},
   "source": [
    "Once scans are complete for the base directory, we can now link the subfolders to the base directory for a complete filetree.\n",
    "\n",
    "Note: This can be applied iteratively to later collect entire directories to link them together."
   ]
  }
 ],
 "metadata": {
  "kernelspec": {
   "display_name": "Python 3 (ipykernel)",
   "language": "python",
   "name": "python3"
  },
  "language_info": {
   "codemirror_mode": {
    "name": "ipython",
    "version": 3
   },
   "file_extension": ".py",
   "mimetype": "text/x-python",
   "name": "python",
   "nbconvert_exporter": "python",
   "pygments_lexer": "ipython3",
   "version": "3.9.12"
  }
 },
 "nbformat": 4,
 "nbformat_minor": 5
}
