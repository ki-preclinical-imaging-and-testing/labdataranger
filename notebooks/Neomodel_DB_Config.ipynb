{
 "cells": [
  {
   "cell_type": "code",
   "execution_count": null,
   "id": "49976439-1788-4953-8ca3-138ddff6c160",
   "metadata": {},
   "outputs": [],
   "source": [
    "import labdataranger as ldr\n",
    "\n",
    "ldr.store.neomodel_db_config(database='instruments')"
   ]
  },
  {
   "cell_type": "code",
   "execution_count": 6,
   "id": "35b9ec67-080e-40af-a366-1b62a2a860b0",
   "metadata": {},
   "outputs": [],
   "source": [
    "db_config = ldr.query.get_db_config()"
   ]
  },
  {
   "cell_type": "code",
   "execution_count": null,
   "id": "736c15ec-a76a-4914-9a2a-773cccaa53b8",
   "metadata": {},
   "outputs": [],
   "source": []
  }
 ],
 "metadata": {
  "kernelspec": {
   "display_name": "Python 3 (ipykernel)",
   "language": "python",
   "name": "python3"
  },
  "language_info": {
   "codemirror_mode": {
    "name": "ipython",
    "version": 3
   },
   "file_extension": ".py",
   "mimetype": "text/x-python",
   "name": "python",
   "nbconvert_exporter": "python",
   "pygments_lexer": "ipython3",
   "version": "3.9.12"
  }
 },
 "nbformat": 4,
 "nbformat_minor": 5
}
