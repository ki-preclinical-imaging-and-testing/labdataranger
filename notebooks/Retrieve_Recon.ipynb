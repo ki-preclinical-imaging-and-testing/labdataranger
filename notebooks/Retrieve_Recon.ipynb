{
 "cells": [
  {
   "cell_type": "raw",
   "id": "f0cbdcdb-8ad2-4fc5-9e4d-103eedb3d5cb",
   "metadata": {},
   "source": [
    "MATCH (f:Folder)\n",
    "WHERE f.name CONTAINS \"_Rec\"\n",
    "RETURN f.name, f.filepath"
   ]
  },
  {
   "cell_type": "code",
   "execution_count": 24,
   "id": "aa0e43bb-c3e0-4300-8fd3-3d3b0f0212c7",
   "metadata": {},
   "outputs": [],
   "source": [
    "import pandas as pd\n",
    "import os\n",
    "from neo4j import GraphDatabase\n",
    "import ..labdataranger as ldr\n",
    "\n",
    "db_config = ldr.query.get_db_config()\n",
    "uri = f\"{db_config['uri']}:{db_config['port']}\"\n",
    "username = db_config['username']\n",
    "password = db_config['password']\n",
    "database = \"instruments\"\n",
    "\n",
    "driver = GraphDatabase.driver(\n",
    "    uri, \n",
    "    auth=(username, password)\n",
    ")\n",
    "\n",
    "def fetch_folders_with_substring(driver, fp_substring, database=None):\n",
    "    query = \"\"\"\n",
    "        MATCH (f:Folder)\n",
    "        WHERE f.name CONTAINS $filePathSubstring\n",
    "        RETURN f.name, f.filepath\n",
    "    \"\"\"\n",
    "    \n",
    "    with driver.session(database=database) as session:\n",
    "        result = session.run(query, filePathSubstring=fp_substring)\n",
    "        # Convert results to DataFrame\n",
    "        data = [{\"name\": record[\"name\"], \"filepath\": record[\"filepath\"]} \n",
    "                for record in result]\n",
    "        df = pd.DataFrame(data)\n",
    "        return df\n"
   ]
  },
  {
   "cell_type": "code",
   "execution_count": 19,
   "id": "016d28bf-0fec-48a3-83f8-25805dcf5d81",
   "metadata": {},
   "outputs": [],
   "source": [
    "query = \"\"\"\n",
    "    MATCH (f:Folder)\n",
    "    WHERE f.name CONTAINS $filePathSubstring\n",
    "    RETURN f.name, f.filepath\n",
    "\"\"\"\n",
    "fp_substring='_Rec'\n",
    "df = None\n",
    "data = None\n",
    "result = None\n",
    "with driver.session(database=database) as session:\n",
    "    result = session.run(query, filePathSubstring=fp_substring)\n",
    "    # Convert results to DataFrame\n",
    "    data = [{\"name\": record[\"f.name\"], \"filepath\": record[\"f.filepath\"]} \n",
    "            for record in result]\n",
    "\n",
    "    df = pd.DataFrame(data)"
   ]
  },
  {
   "cell_type": "code",
   "execution_count": 20,
   "id": "7500a4c6-9890-42d1-a75d-185126fd7a79",
   "metadata": {},
   "outputs": [
    {
     "data": {
      "text/html": [
       "<div>\n",
       "<style scoped>\n",
       "    .dataframe tbody tr th:only-of-type {\n",
       "        vertical-align: middle;\n",
       "    }\n",
       "\n",
       "    .dataframe tbody tr th {\n",
       "        vertical-align: top;\n",
       "    }\n",
       "\n",
       "    .dataframe thead th {\n",
       "        text-align: right;\n",
       "    }\n",
       "</style>\n",
       "<table border=\"1\" class=\"dataframe\">\n",
       "  <thead>\n",
       "    <tr style=\"text-align: right;\">\n",
       "      <th></th>\n",
       "      <th>name</th>\n",
       "      <th>filepath</th>\n",
       "    </tr>\n",
       "  </thead>\n",
       "  <tbody>\n",
       "    <tr>\n",
       "      <th>0</th>\n",
       "      <td>2R_Rec</td>\n",
       "      <td>/mnt/data/archive/LaraM_Full_Dataset/U52/12Apr...</td>\n",
       "    </tr>\n",
       "    <tr>\n",
       "      <th>1</th>\n",
       "      <td>NP_Rec</td>\n",
       "      <td>/mnt/data/archive/LaraM_Full_Dataset/U52/05Apr...</td>\n",
       "    </tr>\n",
       "    <tr>\n",
       "      <th>2</th>\n",
       "      <td>1L_Rec</td>\n",
       "      <td>/mnt/data/archive/LaraM_Full_Dataset/U52/05Apr...</td>\n",
       "    </tr>\n",
       "    <tr>\n",
       "      <th>3</th>\n",
       "      <td>1R_Rec</td>\n",
       "      <td>/mnt/data/archive/LaraM_Full_Dataset/U52/05Apr...</td>\n",
       "    </tr>\n",
       "    <tr>\n",
       "      <th>4</th>\n",
       "      <td>2L_Rec</td>\n",
       "      <td>/mnt/data/archive/LaraM_Full_Dataset/U52/05Apr...</td>\n",
       "    </tr>\n",
       "    <tr>\n",
       "      <th>...</th>\n",
       "      <td>...</td>\n",
       "      <td>...</td>\n",
       "    </tr>\n",
       "    <tr>\n",
       "      <th>2775</th>\n",
       "      <td>0_Rec</td>\n",
       "      <td>/mnt/data/archive/LaraM_Full_Dataset/09.03.21_...</td>\n",
       "    </tr>\n",
       "    <tr>\n",
       "      <th>2776</th>\n",
       "      <td>2R_Rec</td>\n",
       "      <td>/mnt/data/archive/LaraM_Full_Dataset/09.03.21_...</td>\n",
       "    </tr>\n",
       "    <tr>\n",
       "      <th>2777</th>\n",
       "      <td>1L_Rec</td>\n",
       "      <td>/mnt/data/archive/LaraM_Full_Dataset/09.03.21_...</td>\n",
       "    </tr>\n",
       "    <tr>\n",
       "      <th>2778</th>\n",
       "      <td>1R_Rec</td>\n",
       "      <td>/mnt/data/archive/LaraM_Full_Dataset/09.03.21_...</td>\n",
       "    </tr>\n",
       "    <tr>\n",
       "      <th>2779</th>\n",
       "      <td>2L_Rec</td>\n",
       "      <td>/mnt/data/archive/LaraM_Full_Dataset/09.03.21_...</td>\n",
       "    </tr>\n",
       "  </tbody>\n",
       "</table>\n",
       "<p>2780 rows × 2 columns</p>\n",
       "</div>"
      ],
      "text/plain": [
       "        name                                           filepath\n",
       "0     2R_Rec  /mnt/data/archive/LaraM_Full_Dataset/U52/12Apr...\n",
       "1     NP_Rec  /mnt/data/archive/LaraM_Full_Dataset/U52/05Apr...\n",
       "2     1L_Rec  /mnt/data/archive/LaraM_Full_Dataset/U52/05Apr...\n",
       "3     1R_Rec  /mnt/data/archive/LaraM_Full_Dataset/U52/05Apr...\n",
       "4     2L_Rec  /mnt/data/archive/LaraM_Full_Dataset/U52/05Apr...\n",
       "...      ...                                                ...\n",
       "2775   0_Rec  /mnt/data/archive/LaraM_Full_Dataset/09.03.21_...\n",
       "2776  2R_Rec  /mnt/data/archive/LaraM_Full_Dataset/09.03.21_...\n",
       "2777  1L_Rec  /mnt/data/archive/LaraM_Full_Dataset/09.03.21_...\n",
       "2778  1R_Rec  /mnt/data/archive/LaraM_Full_Dataset/09.03.21_...\n",
       "2779  2L_Rec  /mnt/data/archive/LaraM_Full_Dataset/09.03.21_...\n",
       "\n",
       "[2780 rows x 2 columns]"
      ]
     },
     "execution_count": 20,
     "metadata": {},
     "output_type": "execute_result"
    }
   ],
   "source": [
    "df"
   ]
  },
  {
   "cell_type": "code",
   "execution_count": 21,
   "id": "3d0c4bbd-5545-46bc-9506-5f6850745ef5",
   "metadata": {},
   "outputs": [],
   "source": [
    "df['filepath'] = df['filepath'].apply(lambda x: '/'.join(x.split('/')[4:]))"
   ]
  },
  {
   "cell_type": "code",
   "execution_count": 23,
   "id": "70ca6d84-2baf-40a5-adfd-12f3d2e50777",
   "metadata": {},
   "outputs": [],
   "source": [
    "df.to_csv('recon_filepaths.csv')"
   ]
  },
  {
   "cell_type": "code",
   "execution_count": null,
   "id": "318ee82a-f85b-4b2b-b113-97dc951b57a6",
   "metadata": {},
   "outputs": [],
   "source": []
  }
 ],
 "metadata": {
  "kernelspec": {
   "display_name": "Python 3 (ipykernel)",
   "language": "python",
   "name": "python3"
  },
  "language_info": {
   "codemirror_mode": {
    "name": "ipython",
    "version": 3
   },
   "file_extension": ".py",
   "mimetype": "text/x-python",
   "name": "python",
   "nbconvert_exporter": "python",
   "pygments_lexer": "ipython3",
   "version": "3.9.12"
  }
 },
 "nbformat": 4,
 "nbformat_minor": 5
}
