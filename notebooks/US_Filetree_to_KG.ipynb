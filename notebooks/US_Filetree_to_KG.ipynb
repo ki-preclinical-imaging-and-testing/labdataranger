{
 "cells": [
  {
   "cell_type": "code",
   "execution_count": 1,
   "id": "ec86d770-6fa2-441e-baad-259f37464867",
   "metadata": {},
   "outputs": [],
   "source": [
    "import xml.etree.ElementTree as ET\n",
    "\n",
    "\n",
    "def parse_xml(fn):\n",
    "    \n",
    "    xml_file = ET.parse(fn)\n",
    "    root = xml_file.getroot()\n",
    "    \n",
    "    data_dict = {\n",
    "        'root': {\n",
    "            'tag': root.tag,\n",
    "            'attributes': root.attrib\n",
    "        },\n",
    "        'children': []\n",
    "    }\n",
    "    \n",
    "    for child in root:\n",
    "        child_data = {\n",
    "            'tag': child.tag,\n",
    "            'attributes': child.attrib\n",
    "        }\n",
    "        data_dict['children'].append(child_data)\n",
    "    \n",
    "    return data_dict\n"
   ]
  },
  {
   "cell_type": "code",
   "execution_count": 2,
   "id": "80558be7-e8fa-421b-9d34-2738c35f4cf1",
   "metadata": {},
   "outputs": [],
   "source": [
    "\n",
    "fn = 'US v Caliper analyzed/MeasurementInfo.vxml'\n",
    "measurement_info = parse_xml(fn)\n",
    "fn = 'US v Caliper analyzed/Study.vxml'\n",
    "study = parse_xml(fn)"
   ]
  },
  {
   "cell_type": "code",
   "execution_count": 3,
   "id": "3cedaab9-a7c6-4480-a935-a4a6fe7dad66",
   "metadata": {},
   "outputs": [
    {
     "data": {
      "text/plain": [
       "({'root': {'tag': 'studyInformation', 'attributes': {'version': '1'}},\n",
       "  'children': [{'tag': 'genericNumbers',\n",
       "    'attributes': {'VSI_E_GMT_Unknown': '0',\n",
       "     'VSI_E_GMT_Annotation': '0',\n",
       "     'VSI_E_GMT_Linear': '0',\n",
       "     'VSI_E_GMT_TracedDistance': '0',\n",
       "     'VSI_E_GMT_Area': '0',\n",
       "     'VSI_E_GMT_BModePoint': '0',\n",
       "     'VSI_E_GMT_MModeVelocity': '0',\n",
       "     'VSI_E_GMT_Time': '0',\n",
       "     'VSI_E_GMT_Depth': '0',\n",
       "     'VSI_E_GMT_MModePoint': '0',\n",
       "     'VSI_E_GMT_HeartRate': '0',\n",
       "     'VSI_E_GMT_MModeLVArea': '0',\n",
       "     'VSI_E_GMT_Acceleration': '0',\n",
       "     'VSI_E_GMT_DopplerVelocity': '0',\n",
       "     'VSI_E_GMT_VTI': '0',\n",
       "     'VSI_E_GMT_DopplerPoint': '0',\n",
       "     'VSI_E_GMT_ContrastRegion': '0',\n",
       "     'VSI_E_GMT_CardiacRegion': '0',\n",
       "     'VSI_E_GMT_Radius': '0',\n",
       "     'VSI_E_GMT_Angle': '0',\n",
       "     'VSI_E_GMT_Ellipse': '0',\n",
       "     'VSI_E_GMT_BModeLVAreaLong': '0',\n",
       "     'VSI_E_GMT_BModeLVAreaShort': '0',\n",
       "     'VSI_E_GMT_3dPoint': '0',\n",
       "     'VSI_E_GMT_3dLinear': '0',\n",
       "     'VSI_E_GMT_3dArea': '0',\n",
       "     'VSI_E_GMT_3dVolume': '15',\n",
       "     'VSI_E_GMT_Amplitude': '0',\n",
       "     'VSI_E_GMT_3dAnnotation': '0',\n",
       "     'VSI_E_GMT_PARegion': '0',\n",
       "     'VSI_E_GMT_AnnotationArea': '0',\n",
       "     'VSI_E_GMT_PA3dRegion': '0',\n",
       "     'VSI_E_GMT_B_IMT': '0',\n",
       "     'VSI_E_GMT_M_IMT': '0',\n",
       "     'VSI_E_GMT_3dPlusVolume': '0',\n",
       "     'VSI_E_GMT_4dVolume': '0',\n",
       "     'VSI_E_GMT_BModeAutoLV': '0',\n",
       "     'VSI_E_GMT_3dContrastRegion': '0',\n",
       "     'VSI_E_GMT_3dColorRegion': '0',\n",
       "     'VSI_E_GMT_3dPowerRegion': '0',\n",
       "     'VSI_E_GMT_3dBModeRegion': '0'}},\n",
       "   {'tag': 'namedNumbers', 'attributes': {}}]},\n",
       " {'root': {'tag': 'study',\n",
       "   'attributes': {'id': '14761982589128729943585339855571546',\n",
       "    'idCreated': '28342518462174775533543117915754361797',\n",
       "    'idCopied': '28342518462174775533543117915754361797',\n",
       "    'name': 'US v Caliper',\n",
       "    'locked': 'true',\n",
       "    'createdDate': '2021-10-27T14:44:41.0Z',\n",
       "    'owner': 'Administrator',\n",
       "    'autoSyncStatus': '1',\n",
       "    'notes': '',\n",
       "    'grantingInstitution': '',\n",
       "    'versionRequired': '1.1.0.0',\n",
       "    'versionModified': '5.6.1.2257',\n",
       "    'access': 'private',\n",
       "    'lastModifiedBy': 'Nicole Henning',\n",
       "    'lastModifiedDate': '2021-11-10T18:34:38.0Z',\n",
       "    'productId': '31'}},\n",
       "  'children': []})"
      ]
     },
     "execution_count": 3,
     "metadata": {},
     "output_type": "execute_result"
    }
   ],
   "source": [
    "measurement_info, study"
   ]
  },
  {
   "cell_type": "code",
   "execution_count": null,
   "id": "b22b4b35-77b7-4a45-8327-4de2ff759614",
   "metadata": {},
   "outputs": [],
   "source": []
  },
  {
   "cell_type": "code",
   "execution_count": 8,
   "id": "e22d1d02-374f-4629-93c0-a9932b35f61c",
   "metadata": {},
   "outputs": [],
   "source": [
    "import glob\n",
    "import os\n",
    "import tqdm\n",
    "\n",
    "\n",
    "def build_meta_dict(fp):\n",
    "    meta_dict = {}\n",
    "    for _fn in tqdm.tqdm(glob.glob(os.path.join(fp, '*.*xml*'))):\n",
    "        _, _ext = os.path.splitext(_fn)\n",
    "        if _ext not in meta_dict.keys():\n",
    "            meta_dict[_ext] = {}\n",
    "        meta_dict[_ext][_fn] = parse_xml(_fn)\n",
    "    return meta_dict\n",
    "\n",
    "\n",
    "def summarize_meta_dict(meta_dict):\n",
    "    for _ext, _entries in meta_dict.items():\n",
    "        print(len(_entries), _ext)\n",
    "\n"
   ]
  },
  {
   "cell_type": "code",
   "execution_count": 12,
   "id": "dc8af026-7c9a-401e-a133-926747c25dca",
   "metadata": {},
   "outputs": [
    {
     "name": "stdout",
     "output_type": "stream",
     "text": [
      "\u001b[0m\u001b[01;34m20211110180827403\u001b[0m/     \u001b[01;32mStudy.bak\u001b[0m*   \u001b[01;32mStudy.vxml.bak\u001b[0m*\n",
      "\u001b[01;32mMeasurementInfo.vxml\u001b[0m*  \u001b[01;32mStudy.vxml\u001b[0m*\n"
     ]
    }
   ],
   "source": [
    "!ls US\\ v\\ Caliper\\ analyzed"
   ]
  },
  {
   "cell_type": "code",
   "execution_count": 9,
   "id": "ed764eea-6e2c-4e03-994c-69a315653ee1",
   "metadata": {},
   "outputs": [
    {
     "name": "stderr",
     "output_type": "stream",
     "text": [
      "100%|███████████████████████████████████████████| 3/3 [00:00<00:00, 4638.01it/s]\n"
     ]
    }
   ],
   "source": [
    "meta_dict = build_meta_dict('US v Caliper analyzed/')\n",
    "meta_dict"
   ]
  },
  {
   "cell_type": "code",
   "execution_count": 10,
   "id": "92142eeb-74fb-4911-8b9d-8c3708ae8eaf",
   "metadata": {},
   "outputs": [
    {
     "ename": "NameError",
     "evalue": "name 'fp' is not defined",
     "output_type": "error",
     "traceback": [
      "\u001b[0;31m---------------------------------------------------------------------------\u001b[0m",
      "\u001b[0;31mNameError\u001b[0m                                 Traceback (most recent call last)",
      "Input \u001b[0;32mIn [10]\u001b[0m, in \u001b[0;36m<cell line: 6>\u001b[0;34m()\u001b[0m\n\u001b[1;32m      3\u001b[0m     \u001b[38;5;28;01mfor\u001b[39;00m _f \u001b[38;5;129;01min\u001b[39;00m _files:\n\u001b[1;32m      4\u001b[0m         scanned\u001b[38;5;241m.\u001b[39mappend(_f)\n\u001b[0;32m----> 6\u001b[0m \u001b[38;5;28;01mfor\u001b[39;00m _fn \u001b[38;5;129;01min\u001b[39;00m tqdm\u001b[38;5;241m.\u001b[39mtqdm(glob\u001b[38;5;241m.\u001b[39mglob(os\u001b[38;5;241m.\u001b[39mpath\u001b[38;5;241m.\u001b[39mjoin(\u001b[43mfp\u001b[49m, \u001b[38;5;124m'\u001b[39m\u001b[38;5;124m*.*\u001b[39m\u001b[38;5;124m'\u001b[39m))):\n\u001b[1;32m      7\u001b[0m     \u001b[38;5;28;01mif\u001b[39;00m _fn \u001b[38;5;129;01mnot\u001b[39;00m \u001b[38;5;129;01min\u001b[39;00m scanned:\n\u001b[1;32m      8\u001b[0m         \u001b[38;5;28mprint\u001b[39m(_fn)\n",
      "\u001b[0;31mNameError\u001b[0m: name 'fp' is not defined"
     ]
    }
   ],
   "source": [
    "\n",
    "scanned = []\n",
    "for _ext, _files in meta_dict.items():\n",
    "    for _f in _files:\n",
    "        scanned.append(_f)\n",
    "    \n",
    "for _fn in tqdm.tqdm(glob.glob(os.path.join(fp, '*.*'))):\n",
    "    if _fn not in scanned:\n",
    "        print(_fn)"
   ]
  },
  {
   "cell_type": "code",
   "execution_count": 76,
   "id": "54495ad3-9c53-48c0-8e3a-63e136740085",
   "metadata": {},
   "outputs": [
    {
     "data": {
      "text/plain": [
       "dict_keys(['US v Caliper analyzed/20211110180827403/20211110185407753.vxml', 'US v Caliper analyzed/20211110180827403/20211110184556092.vxml', 'US v Caliper analyzed/20211110180827403/20211116012305311.vxml', 'US v Caliper analyzed/20211110180827403/20211110190629516.vxml', 'US v Caliper analyzed/20211110180827403/20211116001227897.vxml', 'US v Caliper analyzed/20211110180827403/20211116011355823.vxml', 'US v Caliper analyzed/20211110180827403/20211110185852579.vxml', 'US v Caliper analyzed/20211110180827403/20211110184739814.vxml', 'US v Caliper analyzed/20211110180827403/20211110184435186.vxml', 'US v Caliper analyzed/20211110180827403/20211110184219101.vxml', 'US v Caliper analyzed/20211110180827403/20211110183729030.vxml', 'US v Caliper analyzed/20211110180827403/20211116010058000.vxml', 'US v Caliper analyzed/20211110180827403/20211110185204180.vxml', 'US v Caliper analyzed/20211110180827403/20211116012051826.vxml', 'US v Caliper analyzed/20211110180827403/20211116010838247.vxml', 'US v Caliper analyzed/20211110180827403/20211116011145322.vxml', 'US v Caliper analyzed/20211110180827403/20211110190157063.vxml', 'US v Caliper analyzed/20211110180827403/20211116001906860.vxml', 'US v Caliper analyzed/20211110180827403/20211116005335400.vxml', 'US v Caliper analyzed/20211110180827403/20211110190021554.vxml', 'US v Caliper analyzed/20211110180827403/20211116012558378.vxml', 'US v Caliper analyzed/20211110180827403/20211116011711464.vxml', 'US v Caliper analyzed/20211110180827403/20211116010551329.vxml', 'US v Caliper analyzed/20211110180827403/20211110185001569.vxml', 'US v Caliper analyzed/20211110180827403/20211110184003523.vxml', 'US v Caliper analyzed/20211110180827403/20211116005743850.vxml', 'US v Caliper analyzed/20211110180827403/20211110185651438.vxml', 'US v Caliper analyzed/20211110180827403/20211110190845357.vxml', 'US v Caliper analyzed/20211110180827403/20211116013259360.vxml', 'US v Caliper analyzed/20211110180827403/20211116012932290.vxml', 'US v Caliper analyzed/20211110180827403/Series.vxml'])"
      ]
     },
     "execution_count": 76,
     "metadata": {},
     "output_type": "execute_result"
    }
   ],
   "source": [
    "meta_dict['.vxml'].keys()"
   ]
  },
  {
   "cell_type": "code",
   "execution_count": 77,
   "id": "3c786865-6a4c-451b-9384-b1b5a7f91b29",
   "metadata": {},
   "outputs": [
    {
     "data": {
      "text/plain": [
       "{'root': {'tag': 'series',\n",
       "  'attributes': {'id': '21419197145373966324195418861158523',\n",
       "   'idStudy': '28342518462174775533543117915754361797',\n",
       "   'name': 'Nudes',\n",
       "   'createdDate': '2021-11-10T18:08:27.0Z',\n",
       "   'acquiredBy': 'Nicole Henning',\n",
       "   'autoSyncStatus': '1',\n",
       "   'versionRequired': '3.2.5.15042',\n",
       "   'versionCreated': '3.2.7.15251',\n",
       "   'versionModified': '3.2.7.15251',\n",
       "   'notes': '',\n",
       "   'animalId': '',\n",
       "   'animalColor': '',\n",
       "   'strain': '',\n",
       "   'weight': '',\n",
       "   'type': '',\n",
       "   'c4': '',\n",
       "   'lastModifiedBy': 'Nicole Henning',\n",
       "   'lastModifiedDate': '2021-11-10T18:34:38.0Z'}},\n",
       " 'children': [{'tag': 'fields', 'attributes': {}}]}"
      ]
     },
     "execution_count": 77,
     "metadata": {},
     "output_type": "execute_result"
    }
   ],
   "source": [
    "meta_dict['.vxml']['US v Caliper analyzed/20211110180827403/Series.vxml']"
   ]
  },
  {
   "cell_type": "code",
   "execution_count": null,
   "id": "b3f495b9-d878-4e46-81c6-bdb80c7f355e",
   "metadata": {},
   "outputs": [],
   "source": []
  }
 ],
 "metadata": {
  "kernelspec": {
   "display_name": "Python 3 (ipykernel)",
   "language": "python",
   "name": "python3"
  },
  "language_info": {
   "codemirror_mode": {
    "name": "ipython",
    "version": 3
   },
   "file_extension": ".py",
   "mimetype": "text/x-python",
   "name": "python",
   "nbconvert_exporter": "python",
   "pygments_lexer": "ipython3",
   "version": "3.9.12"
  }
 },
 "nbformat": 4,
 "nbformat_minor": 5
}
